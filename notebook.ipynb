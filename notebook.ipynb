{
 "cells": [
  {
   "cell_type": "markdown",
   "metadata": {},
   "source": [
    "# MARATÓN BEHIND THE CODE 2020\n",
    "\n",
    "## DESAFÍO 2: TORTUGA CODE"
   ]
  },
  {
   "cell_type": "markdown",
   "metadata": {},
   "source": [
    "### Introducción"
   ]
  },
  {
   "cell_type": "markdown",
   "metadata": {},
   "source": [
    "En proyectos de ciencia de datos destinados a construir modelos de *aprendizaje automático*, o aprendizaje estadístico, es muy inusual que los datos iniciales ya estén en el formato ideal para la construcción de modelos. Se requieren varios pasos intermedios de preprocesamiento de datos, como la codificación de variables categóricas, normalización de variables numéricas, tratamiento de datos faltantes, etc. La biblioteca **scikit-learn**, una de las bibliotecas de código abierto más populares para *aprendizaje automático* en el mundo, ya tiene varias funciones integradas para realizar las transformaciones de datos más utilizadas. Sin embargo, en un flujo común de un modelo de aprendizaje automático, es necesario aplicar estas transformaciones al menos dos veces: la primera vez para \"entrenar\" el modelo, y luego nuevamente cuando se envían nuevos datos como entrada para ser clasificados por este modelo.\n"
   ]
  },
  {
   "cell_type": "markdown",
   "metadata": {},
   "source": [
    "### Trabajando scikit-learn"
   ]
  },
  {
   "cell_type": "raw",
   "metadata": {},
   "source": [
    "# Primero, realizamos la instalación de scikit-learn\n",
    "!pip install scikit-learn --upgrade"
   ]
  },
  {
   "cell_type": "code",
   "execution_count": 1,
   "metadata": {},
   "outputs": [
    {
     "name": "stdout",
     "output_type": "stream",
     "text": [
      "Collecting xgboost\n",
      "  Downloading xgboost-1.2.0-py3-none-manylinux2010_x86_64.whl (148.9 MB)\n",
      "\u001b[K     |████████████████████████████████| 148.9 MB 25 kB/s /s eta 0:00:01\n",
      "\u001b[?25hRequirement already satisfied, skipping upgrade: scipy in /opt/conda/lib/python3.7/site-packages (from xgboost) (1.5.2)\n",
      "Requirement already satisfied, skipping upgrade: numpy in /opt/conda/lib/python3.7/site-packages (from xgboost) (1.19.1)\n",
      "Installing collected packages: xgboost\n",
      "Successfully installed xgboost-1.2.0\n"
     ]
    }
   ],
   "source": [
    "!pip install xgboost --upgrade"
   ]
  },
  {
   "cell_type": "code",
   "execution_count": 1,
   "metadata": {},
   "outputs": [],
   "source": [
    "# A continuación importaremos varias bibliotecas que se utilizarán:\n",
    "\n",
    "# Biblioteca para trabajar con JSON\n",
    "import json\n",
    "\n",
    "# Biblioteca para realizar solicitudes HTTP\n",
    "import requests\n",
    "\n",
    "# Biblioteca para exploración y análisis de datos\n",
    "import pandas as pd\n",
    "\n",
    "# Biblioteca con métodos numéricos y representaciones matriciales\n",
    "import numpy as np\n",
    "\n",
    "# Biblioteca para construir un modelo basado en la técnica Gradient Boosting\n",
    "import xgboost as xgb\n",
    "\n",
    "# Paquetes scikit-learn para preprocesamiento de datos\n",
    "# \"SimpleImputer\" es una transformación para completar los valores faltantes en conjuntos de datos\n",
    "from sklearn.impute import SimpleImputer\n",
    "\n",
    "# Paquetes de scikit-learn para entrenamiento de modelos y construcción de pipelines\n",
    "# Método para separar el conjunto de datos en muestras de testes y entrenamiento\n",
    "from sklearn.model_selection import train_test_split\n",
    "# Método para crear modelos basados en árboles de decisión\n",
    "from sklearn.tree import DecisionTreeClassifier\n",
    "# Clase para crear una pipeline de machine-learning\n",
    "from sklearn.pipeline import Pipeline\n",
    "\n",
    "# Paquetes scikit-learn para evaluación de modelos\n",
    "# Métodos para la validación cruzada del modelo creado\n",
    "from sklearn.model_selection import KFold, cross_validate"
   ]
  },
  {
   "cell_type": "markdown",
   "metadata": {},
   "source": [
    "### Importar  un .csv a tu proyecto en IBM Cloud Pak for Data al Kernel de este notebook"
   ]
  },
  {
   "cell_type": "code",
   "execution_count": 2,
   "metadata": {},
   "outputs": [
    {
     "name": "stdout",
     "output_type": "stream",
     "text": [
      "--2020-09-06 00:26:22--  https://raw.githubusercontent.com/maratonadev-la/desafio-2-2020/master/Assets/Data/dataset-tortuga-desafio-2.csv\n",
      "Resolving raw.githubusercontent.com (raw.githubusercontent.com)... 151.101.0.133, 151.101.64.133, 151.101.128.133, ...\n",
      "Connecting to raw.githubusercontent.com (raw.githubusercontent.com)|151.101.0.133|:443... connected.\n",
      "HTTP request sent, awaiting response... 200 OK\n",
      "Length: 2031803 (1.9M) [text/plain]\n",
      "Saving to: ‘dataset-tortuga-desafio-2.csv.1’\n",
      "\n",
      "dataset-tortuga-des 100%[===================>]   1.94M  --.-KB/s    in 0.1s    \n",
      "\n",
      "2020-09-06 00:26:23 (15.1 MB/s) - ‘dataset-tortuga-desafio-2.csv.1’ saved [2031803/2031803]\n",
      "\n"
     ]
    },
    {
     "data": {
      "text/html": [
       "<div>\n",
       "<style scoped>\n",
       "    .dataframe tbody tr th:only-of-type {\n",
       "        vertical-align: middle;\n",
       "    }\n",
       "\n",
       "    .dataframe tbody tr th {\n",
       "        vertical-align: top;\n",
       "    }\n",
       "\n",
       "    .dataframe thead th {\n",
       "        text-align: right;\n",
       "    }\n",
       "</style>\n",
       "<table border=\"1\" class=\"dataframe\">\n",
       "  <thead>\n",
       "    <tr style=\"text-align: right;\">\n",
       "      <th></th>\n",
       "      <th>Unnamed: 0</th>\n",
       "      <th>NAME</th>\n",
       "      <th>USER_ID</th>\n",
       "      <th>HOURS_DATASCIENCE</th>\n",
       "      <th>HOURS_BACKEND</th>\n",
       "      <th>HOURS_FRONTEND</th>\n",
       "      <th>NUM_COURSES_BEGINNER_DATASCIENCE</th>\n",
       "      <th>NUM_COURSES_BEGINNER_BACKEND</th>\n",
       "      <th>NUM_COURSES_BEGINNER_FRONTEND</th>\n",
       "      <th>NUM_COURSES_ADVANCED_DATASCIENCE</th>\n",
       "      <th>NUM_COURSES_ADVANCED_BACKEND</th>\n",
       "      <th>NUM_COURSES_ADVANCED_FRONTEND</th>\n",
       "      <th>AVG_SCORE_DATASCIENCE</th>\n",
       "      <th>AVG_SCORE_BACKEND</th>\n",
       "      <th>AVG_SCORE_FRONTEND</th>\n",
       "      <th>PROFILE</th>\n",
       "    </tr>\n",
       "  </thead>\n",
       "  <tbody>\n",
       "    <tr>\n",
       "      <th>19995</th>\n",
       "      <td>20495</td>\n",
       "      <td>Rose Jurado</td>\n",
       "      <td>66754730</td>\n",
       "      <td>0.0</td>\n",
       "      <td>44.0</td>\n",
       "      <td>42.0</td>\n",
       "      <td>8.0</td>\n",
       "      <td>4.0</td>\n",
       "      <td>7.0</td>\n",
       "      <td>3.0</td>\n",
       "      <td>3.0</td>\n",
       "      <td>3.0</td>\n",
       "      <td>74.0</td>\n",
       "      <td>73.0</td>\n",
       "      <td>93.0</td>\n",
       "      <td>advanced_backend</td>\n",
       "    </tr>\n",
       "    <tr>\n",
       "      <th>19996</th>\n",
       "      <td>20496</td>\n",
       "      <td>Johnny Jones</td>\n",
       "      <td>6874888</td>\n",
       "      <td>0.0</td>\n",
       "      <td>85.0</td>\n",
       "      <td>63.0</td>\n",
       "      <td>3.0</td>\n",
       "      <td>5.0</td>\n",
       "      <td>0.0</td>\n",
       "      <td>4.0</td>\n",
       "      <td>7.0</td>\n",
       "      <td>3.0</td>\n",
       "      <td>50.0</td>\n",
       "      <td>83.0</td>\n",
       "      <td>94.0</td>\n",
       "      <td>advanced_front_end</td>\n",
       "    </tr>\n",
       "    <tr>\n",
       "      <th>19997</th>\n",
       "      <td>20497</td>\n",
       "      <td>Lawrence Givens</td>\n",
       "      <td>83752787</td>\n",
       "      <td>32.0</td>\n",
       "      <td>50.0</td>\n",
       "      <td>22.0</td>\n",
       "      <td>0.0</td>\n",
       "      <td>4.0</td>\n",
       "      <td>0.0</td>\n",
       "      <td>6.0</td>\n",
       "      <td>2.0</td>\n",
       "      <td>3.0</td>\n",
       "      <td>61.0</td>\n",
       "      <td>81.0</td>\n",
       "      <td>75.0</td>\n",
       "      <td>advanced_backend</td>\n",
       "    </tr>\n",
       "    <tr>\n",
       "      <th>19998</th>\n",
       "      <td>20498</td>\n",
       "      <td>Betty Diclaudio</td>\n",
       "      <td>45806698</td>\n",
       "      <td>0.0</td>\n",
       "      <td>96.0</td>\n",
       "      <td>69.0</td>\n",
       "      <td>3.0</td>\n",
       "      <td>3.0</td>\n",
       "      <td>3.0</td>\n",
       "      <td>5.0</td>\n",
       "      <td>7.0</td>\n",
       "      <td>4.0</td>\n",
       "      <td>64.0</td>\n",
       "      <td>68.0</td>\n",
       "      <td>68.0</td>\n",
       "      <td>advanced_front_end</td>\n",
       "    </tr>\n",
       "    <tr>\n",
       "      <th>19999</th>\n",
       "      <td>20499</td>\n",
       "      <td>Connie Harper</td>\n",
       "      <td>67068866</td>\n",
       "      <td>51.0</td>\n",
       "      <td>24.0</td>\n",
       "      <td>36.0</td>\n",
       "      <td>4.0</td>\n",
       "      <td>2.0</td>\n",
       "      <td>7.0</td>\n",
       "      <td>0.0</td>\n",
       "      <td>0.0</td>\n",
       "      <td>2.0</td>\n",
       "      <td>63.0</td>\n",
       "      <td>61.0</td>\n",
       "      <td>87.0</td>\n",
       "      <td>advanced_data_science</td>\n",
       "    </tr>\n",
       "  </tbody>\n",
       "</table>\n",
       "</div>"
      ],
      "text/plain": [
       "       Unnamed: 0             NAME   USER_ID  HOURS_DATASCIENCE  \\\n",
       "19995       20495      Rose Jurado  66754730                0.0   \n",
       "19996       20496     Johnny Jones   6874888                0.0   \n",
       "19997       20497  Lawrence Givens  83752787               32.0   \n",
       "19998       20498  Betty Diclaudio  45806698                0.0   \n",
       "19999       20499    Connie Harper  67068866               51.0   \n",
       "\n",
       "       HOURS_BACKEND  HOURS_FRONTEND  NUM_COURSES_BEGINNER_DATASCIENCE  \\\n",
       "19995           44.0            42.0                               8.0   \n",
       "19996           85.0            63.0                               3.0   \n",
       "19997           50.0            22.0                               0.0   \n",
       "19998           96.0            69.0                               3.0   \n",
       "19999           24.0            36.0                               4.0   \n",
       "\n",
       "       NUM_COURSES_BEGINNER_BACKEND  NUM_COURSES_BEGINNER_FRONTEND  \\\n",
       "19995                           4.0                            7.0   \n",
       "19996                           5.0                            0.0   \n",
       "19997                           4.0                            0.0   \n",
       "19998                           3.0                            3.0   \n",
       "19999                           2.0                            7.0   \n",
       "\n",
       "       NUM_COURSES_ADVANCED_DATASCIENCE  NUM_COURSES_ADVANCED_BACKEND  \\\n",
       "19995                               3.0                           3.0   \n",
       "19996                               4.0                           7.0   \n",
       "19997                               6.0                           2.0   \n",
       "19998                               5.0                           7.0   \n",
       "19999                               0.0                           0.0   \n",
       "\n",
       "       NUM_COURSES_ADVANCED_FRONTEND  AVG_SCORE_DATASCIENCE  \\\n",
       "19995                            3.0                   74.0   \n",
       "19996                            3.0                   50.0   \n",
       "19997                            3.0                   61.0   \n",
       "19998                            4.0                   64.0   \n",
       "19999                            2.0                   63.0   \n",
       "\n",
       "       AVG_SCORE_BACKEND  AVG_SCORE_FRONTEND                PROFILE  \n",
       "19995               73.0                93.0       advanced_backend  \n",
       "19996               83.0                94.0     advanced_front_end  \n",
       "19997               81.0                75.0       advanced_backend  \n",
       "19998               68.0                68.0     advanced_front_end  \n",
       "19999               61.0                87.0  advanced_data_science  "
      ]
     },
     "execution_count": 2,
     "metadata": {},
     "output_type": "execute_result"
    }
   ],
   "source": [
    "# Primero, importaremos el conjunto de datos proporcionado para el desafío, que ya está incluido en este proyecto.\n",
    "\n",
    "!wget --no-check-certificate --content-disposition https://raw.githubusercontent.com/maratonadev-la/desafio-2-2020/master/Assets/Data/dataset-tortuga-desafio-2.csv\n",
    "df_training_dataset = pd.read_csv('dataset-tortuga-desafio-2.csv')\n",
    "df_training_dataset.tail()"
   ]
  },
  {
   "cell_type": "markdown",
   "metadata": {},
   "source": [
    "Tenemos 16 columnas presentes en el set de datos proporcionado, 15 de las cuales son variables features (datos de entrada) y una de ellas es una variable target (que queremos que nuestro modelo va a predecir).\n",
    "\n",
    "Las variables features son:\n",
    "\n",
    "    Unnamed: 0                          - Esta columna no tiene nombre y debe ser eliminada del dataset\n",
    "    NAME                                - Nombre del estudiante\n",
    "    USER_ID                             - Número de identificación del estudiante\n",
    "    HOURS_DATASCIENCE                   - Número de horas de estudio en Data Science\n",
    "    HOURS_BACKEND                       - Número de horas de estudio en Web (Back-End)\n",
    "    HOURS_FRONTEND                      - Número de horas de estudio en Web (Front-End)\n",
    "    NUM_COURSES_BEGINNER_DATASCIENCE    - Número de cursos de nivel principiante en Data Science completados por el estudiante\n",
    "    NUM_COURSES_BEGINNER_BACKEND        - Número de cursos de nivel principiante en Web (Back-End) completados por el estudiante\n",
    "    NUM_COURSES_BEGINNER_FRONTEND       - Número de cursos de nivel principiante en Web (Front-End) completados por el estudiante\n",
    "    NUM_COURSES_ADVANCED_DATASCIENCE    - Número de cursos de nivel avanzado en Data Science completados por el estudiante\n",
    "    NUM_COURSES_ADVANCED_BACKEND        - Número de cursos de nivel avanzado en Web (Back-End) completados por el estudiante\n",
    "    NUM_COURSES_ADVANCED_FRONTEND       - Número de cursos de nivel avanzado en Web (Front-End) completados por el estudiante\n",
    "    AVG_SCORE_DATASCIENCE               - Promedio acumulado en cursos de Data Science completados por el estudiante\n",
    "    AVG_SCORE_BACKEND                   - Promedio acumulado en cursos de Web (Back-End) completados por el estudiante\n",
    "    AVG_SCORE_FRONTEND                  - Promedio acumulado en cursos de Web (Front-End) completados por el estudiante\n",
    "    \n",
    "La variable target es:\n",
    "\n",
    "    PROFILE                             - Perfil de carrera del estudiante (puede ser uno de 6)\n",
    "    \n",
    "        - beginner_front_end\n",
    "        - advanced_front_end\n",
    "        - beginner_back_end\n",
    "        - advanced_back_end\n",
    "        - beginner_data_science\n",
    "        - advanced_data_science\n",
    "        \n",
    "Con un modelo capaz de clasificar a un alumno en una de estas categorías, podemos recomendar contenidos a los alumnos de forma personalizada según las necesidades de cada alumno."
   ]
  },
  {
   "cell_type": "markdown",
   "metadata": {},
   "source": [
    "### Explorando los datos proporcionados\n",
    "\n",
    "Podemos continuar la exploración de los datos proporcionados con la función ``info()``:"
   ]
  },
  {
   "cell_type": "code",
   "execution_count": 3,
   "metadata": {},
   "outputs": [
    {
     "data": {
      "text/plain": [
       "Unnamed: 0                            0\n",
       "NAME                                  0\n",
       "USER_ID                               0\n",
       "HOURS_DATASCIENCE                    14\n",
       "HOURS_BACKEND                        53\n",
       "HOURS_FRONTEND                       16\n",
       "NUM_COURSES_BEGINNER_DATASCIENCE     26\n",
       "NUM_COURSES_BEGINNER_BACKEND         18\n",
       "NUM_COURSES_BEGINNER_FRONTEND        39\n",
       "NUM_COURSES_ADVANCED_DATASCIENCE      2\n",
       "NUM_COURSES_ADVANCED_BACKEND          8\n",
       "NUM_COURSES_ADVANCED_FRONTEND        37\n",
       "AVG_SCORE_DATASCIENCE               220\n",
       "AVG_SCORE_BACKEND                    84\n",
       "AVG_SCORE_FRONTEND                  168\n",
       "PROFILE                               0\n",
       "dtype: int64"
      ]
     },
     "execution_count": 3,
     "metadata": {},
     "output_type": "execute_result"
    }
   ],
   "source": [
    "df_training_dataset.isnull().sum()"
   ]
  },
  {
   "cell_type": "markdown",
   "metadata": {},
   "source": [
    "### Visualización (visualizations)\n",
    "\n",
    "Para ver el conjunto de datos suministrado, podemos usar las bibliotecas ``matplotlib`` y ``seaborn``:"
   ]
  },
  {
   "cell_type": "code",
   "execution_count": 4,
   "metadata": {},
   "outputs": [],
   "source": [
    "import matplotlib.pyplot as plt\n",
    "import seaborn as sns\n",
    "%matplotlib inline"
   ]
  },
  {
   "cell_type": "code",
   "execution_count": 5,
   "metadata": {},
   "outputs": [
    {
     "data": {
      "text/plain": [
       "<AxesSubplot:xlabel='HOURS_FRONTEND'>"
      ]
     },
     "execution_count": 5,
     "metadata": {},
     "output_type": "execute_result"
    },
    {
     "data": {
      "image/png": "[encoded data removed]",
      "text/plain": [
       "<Figure size 2016x288 with 3 Axes>"
      ]
     },
     "metadata": {
      "needs_background": "light"
     },
     "output_type": "display_data"
    }
   ],
   "source": [
    "fig, axes = plt.subplots(nrows=1, ncols=3, figsize=(28, 4))\n",
    "\n",
    "sns.distplot(df_training_dataset['HOURS_DATASCIENCE'].dropna(), ax=axes[0])\n",
    "sns.distplot(df_training_dataset['HOURS_BACKEND'].dropna(), ax=axes[1])\n",
    "sns.distplot(df_training_dataset['HOURS_FRONTEND'].dropna(), ax=axes[2])"
   ]
  },
  {
   "cell_type": "code",
   "execution_count": 6,
   "metadata": {},
   "outputs": [
    {
     "data": {
      "text/plain": [
       "<AxesSubplot:xlabel='NUM_COURSES_ADVANCED_FRONTEND'>"
      ]
     },
     "execution_count": 6,
     "metadata": {},
     "output_type": "execute_result"
    },
    {
     "data": {
      "image/png": "[encoded data removed]",
      "text/plain": [
       "<Figure size 2016x576 with 6 Axes>"
      ]
     },
     "metadata": {
      "needs_background": "light"
     },
     "output_type": "display_data"
    }
   ],
   "source": [
    "fig, axes = plt.subplots(nrows=2, ncols=3, figsize=(28, 8))\n",
    "\n",
    "sns.distplot(df_training_dataset['NUM_COURSES_BEGINNER_DATASCIENCE'].dropna(), ax=axes[0][0] )\n",
    "sns.distplot(df_training_dataset['NUM_COURSES_BEGINNER_BACKEND'].dropna(), ax=axes[0][1] )\n",
    "sns.distplot(df_training_dataset['NUM_COURSES_BEGINNER_FRONTEND'].dropna(), ax=axes[0][2])\n",
    "sns.distplot(df_training_dataset['NUM_COURSES_ADVANCED_DATASCIENCE'].dropna(), ax=axes[1][0])\n",
    "sns.distplot(df_training_dataset['NUM_COURSES_ADVANCED_BACKEND'].dropna(), ax=axes[1][1])\n",
    "sns.distplot(df_training_dataset['NUM_COURSES_ADVANCED_FRONTEND'].dropna(), ax=axes[1][2])"
   ]
  },
  {
   "cell_type": "code",
   "execution_count": 7,
   "metadata": {},
   "outputs": [
    {
     "data": {
      "text/plain": [
       "<AxesSubplot:xlabel='AVG_SCORE_FRONTEND'>"
      ]
     },
     "execution_count": 7,
     "metadata": {},
     "output_type": "execute_result"
    },
    {
     "data": {
      "image/png": "[encoded data removed]",
      "text/plain": [
       "<Figure size 2016x288 with 3 Axes>"
      ]
     },
     "metadata": {
      "needs_background": "light"
     },
     "output_type": "display_data"
    }
   ],
   "source": [
    "fig, axes = plt.subplots(nrows=1, ncols=3, figsize=(28, 4))\n",
    "\n",
    "sns.distplot(df_training_dataset['AVG_SCORE_DATASCIENCE'].dropna(), ax=axes[0])\n",
    "sns.distplot(df_training_dataset['AVG_SCORE_BACKEND'].dropna(), ax=axes[1])\n",
    "sns.distplot(df_training_dataset['AVG_SCORE_FRONTEND'].dropna(), ax=axes[2])"
   ]
  },
  {
   "cell_type": "code",
   "execution_count": 8,
   "metadata": {},
   "outputs": [
    {
     "data": {
      "text/plain": [
       "advanced_backend         3339\n",
       "advanced_front_end       3337\n",
       "beginner_front_end       3335\n",
       "beginner_backend         3332\n",
       "advanced_data_science    3330\n",
       "beginner_data_science    3327\n",
       "Name: PROFILE, dtype: int64"
      ]
     },
     "execution_count": 8,
     "metadata": {},
     "output_type": "execute_result"
    },
    {
     "data": {
      "image/png": "[encoded data removed]",
      "text/plain": [
       "<Figure size 2016x288 with 1 Axes>"
      ]
     },
     "metadata": {
      "needs_background": "light"
     },
     "output_type": "display_data"
    }
   ],
   "source": [
    "fig, axes = plt.subplots(figsize=(28, 4))\n",
    "\n",
    "sns.countplot(ax=axes, x='PROFILE', data=df_training_dataset)\n",
    "df_training_dataset['PROFILE'].value_counts()"
   ]
  },
  {
   "cell_type": "markdown",
   "metadata": {},
   "source": [
    "# FEATURE ENGINEERING"
   ]
  },
  {
   "cell_type": "markdown",
   "metadata": {},
   "source": [
    "## Drop columns\n",
    "\n",
    "Podemos borrar datos que no vinculantes con las caracteristicas del alumno\n",
    "* Unnamed: 0\n",
    "* USER_ID\n",
    "* NAME"
   ]
  },
  {
   "cell_type": "code",
   "execution_count": 9,
   "metadata": {},
   "outputs": [],
   "source": [
    "df_train = df_training_dataset.drop(columns = [ 'Unnamed: 0', 'USER_ID','NAME' ])"
   ]
  },
  {
   "cell_type": "markdown",
   "metadata": {},
   "source": [
    "# Filling Nan Values\n",
    "\n",
    "Vamos a llenar nos valores perdidos, agrupando los datos según el profile y llenando los datos con la tecnica de SKITLEARN KNN, dentro de cada clase."
   ]
  },
  {
   "cell_type": "code",
   "execution_count": 10,
   "metadata": {},
   "outputs": [
    {
     "data": {
      "text/html": [
       "<div>\n",
       "<style scoped>\n",
       "    .dataframe tbody tr th:only-of-type {\n",
       "        vertical-align: middle;\n",
       "    }\n",
       "\n",
       "    .dataframe tbody tr th {\n",
       "        vertical-align: top;\n",
       "    }\n",
       "\n",
       "    .dataframe thead th {\n",
       "        text-align: right;\n",
       "    }\n",
       "</style>\n",
       "<table border=\"1\" class=\"dataframe\">\n",
       "  <thead>\n",
       "    <tr style=\"text-align: right;\">\n",
       "      <th></th>\n",
       "      <th>HOURS_DATASCIENCE</th>\n",
       "      <th>HOURS_BACKEND</th>\n",
       "      <th>HOURS_FRONTEND</th>\n",
       "      <th>NUM_COURSES_BEGINNER_DATASCIENCE</th>\n",
       "      <th>NUM_COURSES_BEGINNER_BACKEND</th>\n",
       "      <th>NUM_COURSES_BEGINNER_FRONTEND</th>\n",
       "      <th>NUM_COURSES_ADVANCED_DATASCIENCE</th>\n",
       "      <th>NUM_COURSES_ADVANCED_BACKEND</th>\n",
       "      <th>NUM_COURSES_ADVANCED_FRONTEND</th>\n",
       "      <th>AVG_SCORE_DATASCIENCE</th>\n",
       "      <th>AVG_SCORE_BACKEND</th>\n",
       "      <th>AVG_SCORE_FRONTEND</th>\n",
       "      <th>PROFILE</th>\n",
       "    </tr>\n",
       "  </thead>\n",
       "  <tbody>\n",
       "    <tr>\n",
       "      <th>0</th>\n",
       "      <td>7.0</td>\n",
       "      <td>39.0</td>\n",
       "      <td>29.0</td>\n",
       "      <td>2.0</td>\n",
       "      <td>4.0</td>\n",
       "      <td>0.0</td>\n",
       "      <td>2.0</td>\n",
       "      <td>5.0</td>\n",
       "      <td>0.0</td>\n",
       "      <td>84.000000</td>\n",
       "      <td>74.0</td>\n",
       "      <td>54.833333</td>\n",
       "      <td>beginner_front_end</td>\n",
       "    </tr>\n",
       "    <tr>\n",
       "      <th>1</th>\n",
       "      <td>32.0</td>\n",
       "      <td>0.0</td>\n",
       "      <td>44.0</td>\n",
       "      <td>2.0</td>\n",
       "      <td>0.0</td>\n",
       "      <td>0.0</td>\n",
       "      <td>0.0</td>\n",
       "      <td>5.0</td>\n",
       "      <td>0.0</td>\n",
       "      <td>67.000000</td>\n",
       "      <td>45.0</td>\n",
       "      <td>65.000000</td>\n",
       "      <td>beginner_front_end</td>\n",
       "    </tr>\n",
       "    <tr>\n",
       "      <th>2</th>\n",
       "      <td>45.0</td>\n",
       "      <td>0.0</td>\n",
       "      <td>59.0</td>\n",
       "      <td>0.0</td>\n",
       "      <td>5.0</td>\n",
       "      <td>4.0</td>\n",
       "      <td>0.0</td>\n",
       "      <td>4.0</td>\n",
       "      <td>1.0</td>\n",
       "      <td>46.833333</td>\n",
       "      <td>54.0</td>\n",
       "      <td>47.000000</td>\n",
       "      <td>advanced_front_end</td>\n",
       "    </tr>\n",
       "    <tr>\n",
       "      <th>3</th>\n",
       "      <td>36.0</td>\n",
       "      <td>19.0</td>\n",
       "      <td>28.0</td>\n",
       "      <td>0.0</td>\n",
       "      <td>5.0</td>\n",
       "      <td>7.0</td>\n",
       "      <td>0.0</td>\n",
       "      <td>5.0</td>\n",
       "      <td>3.0</td>\n",
       "      <td>65.500000</td>\n",
       "      <td>71.0</td>\n",
       "      <td>89.000000</td>\n",
       "      <td>beginner_data_science</td>\n",
       "    </tr>\n",
       "    <tr>\n",
       "      <th>4</th>\n",
       "      <td>61.0</td>\n",
       "      <td>78.0</td>\n",
       "      <td>38.0</td>\n",
       "      <td>6.0</td>\n",
       "      <td>11.0</td>\n",
       "      <td>0.0</td>\n",
       "      <td>4.0</td>\n",
       "      <td>3.0</td>\n",
       "      <td>0.0</td>\n",
       "      <td>66.000000</td>\n",
       "      <td>85.0</td>\n",
       "      <td>67.666667</td>\n",
       "      <td>advanced_front_end</td>\n",
       "    </tr>\n",
       "  </tbody>\n",
       "</table>\n",
       "</div>"
      ],
      "text/plain": [
       "   HOURS_DATASCIENCE  HOURS_BACKEND  HOURS_FRONTEND  \\\n",
       "0                7.0           39.0            29.0   \n",
       "1               32.0            0.0            44.0   \n",
       "2               45.0            0.0            59.0   \n",
       "3               36.0           19.0            28.0   \n",
       "4               61.0           78.0            38.0   \n",
       "\n",
       "   NUM_COURSES_BEGINNER_DATASCIENCE  NUM_COURSES_BEGINNER_BACKEND  \\\n",
       "0                               2.0                           4.0   \n",
       "1                               2.0                           0.0   \n",
       "2                               0.0                           5.0   \n",
       "3                               0.0                           5.0   \n",
       "4                               6.0                          11.0   \n",
       "\n",
       "   NUM_COURSES_BEGINNER_FRONTEND  NUM_COURSES_ADVANCED_DATASCIENCE  \\\n",
       "0                            0.0                               2.0   \n",
       "1                            0.0                               0.0   \n",
       "2                            4.0                               0.0   \n",
       "3                            7.0                               0.0   \n",
       "4                            0.0                               4.0   \n",
       "\n",
       "   NUM_COURSES_ADVANCED_BACKEND  NUM_COURSES_ADVANCED_FRONTEND  \\\n",
       "0                           5.0                            0.0   \n",
       "1                           5.0                            0.0   \n",
       "2                           4.0                            1.0   \n",
       "3                           5.0                            3.0   \n",
       "4                           3.0                            0.0   \n",
       "\n",
       "   AVG_SCORE_DATASCIENCE  AVG_SCORE_BACKEND  AVG_SCORE_FRONTEND  \\\n",
       "0              84.000000               74.0           54.833333   \n",
       "1              67.000000               45.0           65.000000   \n",
       "2              46.833333               54.0           47.000000   \n",
       "3              65.500000               71.0           89.000000   \n",
       "4              66.000000               85.0           67.666667   \n",
       "\n",
       "                 PROFILE  \n",
       "0     beginner_front_end  \n",
       "1     beginner_front_end  \n",
       "2     advanced_front_end  \n",
       "3  beginner_data_science  \n",
       "4     advanced_front_end  "
      ]
     },
     "execution_count": 10,
     "metadata": {},
     "output_type": "execute_result"
    }
   ],
   "source": [
    "from sklearn.base import BaseEstimator, TransformerMixin\n",
    "from sklearn.utils import resample\n",
    "from sklearn.decomposition import PCA\n",
    "from sklearn.preprocessing import StandardScaler,MinMaxScaler\n",
    "from sklearn.impute import KNNImputer\n",
    "\n",
    "classes = df_train['PROFILE'].unique()\n",
    "classes = classes.tolist()\n",
    "columns = df_train.columns.tolist()\n",
    "columns.remove('PROFILE')\n",
    "df_healthy = pd.DataFrame(columns=columns)\n",
    "\n",
    "whole_profile = df_train[['PROFILE']]\n",
    "for class_i in  classes:\n",
    "    knnimputer = KNNImputer(n_neighbors=6, weights=\"uniform\")\n",
    "    feature_class = df_train.loc[df_train['PROFILE']==class_i ].drop(columns=['PROFILE'])\n",
    "    knnimputer.fit(feature_class)\n",
    "    feature_class[columns] = knnimputer.transform(feature_class)\n",
    "    df_healthy = pd.concat([df_healthy,feature_class])\n",
    "df_healthy = df_healthy.join(whole_profile )\n",
    "df_healthy.sort_index(inplace=True)\n",
    "\n",
    "\n",
    "##################################### Creando KNN_imputer para las muestras de Testeo ####################\n",
    "test_knn_imputer = KNNImputer(n_neighbors=6, weights=\"uniform\")\n",
    "test_knn_imputer.fit(df_healthy.drop(columns=['PROFILE']))\n",
    "########\n",
    "df_healthy.head()"
   ]
  },
  {
   "cell_type": "markdown",
   "metadata": {},
   "source": [
    "## Corrigiendo los datos de las columnas de valores enteros"
   ]
  },
  {
   "cell_type": "code",
   "execution_count": 11,
   "metadata": {},
   "outputs": [],
   "source": [
    "columns_int = ['NUM_COURSES_BEGINNER_DATASCIENCE',\n",
    " 'NUM_COURSES_BEGINNER_BACKEND',\n",
    " 'NUM_COURSES_BEGINNER_FRONTEND',\n",
    " 'NUM_COURSES_ADVANCED_DATASCIENCE',\n",
    " 'NUM_COURSES_ADVANCED_BACKEND',\n",
    " 'NUM_COURSES_ADVANCED_FRONTEND',]\n",
    "df_healthy[columns_int] = df_healthy[columns_int].apply(lambda x: round(x,0)).astype(int)"
   ]
  },
  {
   "cell_type": "markdown",
   "metadata": {},
   "source": [
    "## Scaling data\n",
    "Utilizaremo sel minMax Scaler para colocar algunas caracteristicas dentro del rango de 0-1"
   ]
  },
  {
   "cell_type": "code",
   "execution_count": 12,
   "metadata": {},
   "outputs": [
    {
     "data": {
      "text/html": [
       "<div>\n",
       "<style scoped>\n",
       "    .dataframe tbody tr th:only-of-type {\n",
       "        vertical-align: middle;\n",
       "    }\n",
       "\n",
       "    .dataframe tbody tr th {\n",
       "        vertical-align: top;\n",
       "    }\n",
       "\n",
       "    .dataframe thead th {\n",
       "        text-align: right;\n",
       "    }\n",
       "</style>\n",
       "<table border=\"1\" class=\"dataframe\">\n",
       "  <thead>\n",
       "    <tr style=\"text-align: right;\">\n",
       "      <th></th>\n",
       "      <th>HOURS_DATASCIENCE</th>\n",
       "      <th>HOURS_BACKEND</th>\n",
       "      <th>HOURS_FRONTEND</th>\n",
       "      <th>NUM_COURSES_BEGINNER_DATASCIENCE</th>\n",
       "      <th>NUM_COURSES_BEGINNER_BACKEND</th>\n",
       "      <th>NUM_COURSES_BEGINNER_FRONTEND</th>\n",
       "      <th>NUM_COURSES_ADVANCED_DATASCIENCE</th>\n",
       "      <th>NUM_COURSES_ADVANCED_BACKEND</th>\n",
       "      <th>NUM_COURSES_ADVANCED_FRONTEND</th>\n",
       "      <th>AVG_SCORE_DATASCIENCE</th>\n",
       "      <th>AVG_SCORE_BACKEND</th>\n",
       "      <th>AVG_SCORE_FRONTEND</th>\n",
       "    </tr>\n",
       "  </thead>\n",
       "  <tbody>\n",
       "    <tr>\n",
       "      <th>count</th>\n",
       "      <td>20000.000000</td>\n",
       "      <td>20000.000000</td>\n",
       "      <td>20000.000000</td>\n",
       "      <td>20000.000000</td>\n",
       "      <td>20000.000000</td>\n",
       "      <td>20000.000000</td>\n",
       "      <td>20000.000000</td>\n",
       "      <td>20000.000000</td>\n",
       "      <td>20000.000000</td>\n",
       "      <td>20000.000000</td>\n",
       "      <td>20000.000000</td>\n",
       "      <td>20000.000000</td>\n",
       "    </tr>\n",
       "    <tr>\n",
       "      <th>mean</th>\n",
       "      <td>0.295771</td>\n",
       "      <td>0.296266</td>\n",
       "      <td>0.297889</td>\n",
       "      <td>0.308208</td>\n",
       "      <td>0.309617</td>\n",
       "      <td>0.311431</td>\n",
       "      <td>0.261323</td>\n",
       "      <td>0.310296</td>\n",
       "      <td>0.280654</td>\n",
       "      <td>0.624878</td>\n",
       "      <td>0.636063</td>\n",
       "      <td>0.671173</td>\n",
       "    </tr>\n",
       "    <tr>\n",
       "      <th>std</th>\n",
       "      <td>0.176302</td>\n",
       "      <td>0.152191</td>\n",
       "      <td>0.166005</td>\n",
       "      <td>0.166733</td>\n",
       "      <td>0.175110</td>\n",
       "      <td>0.176563</td>\n",
       "      <td>0.162411</td>\n",
       "      <td>0.154396</td>\n",
       "      <td>0.165589</td>\n",
       "      <td>0.149902</td>\n",
       "      <td>0.157747</td>\n",
       "      <td>0.144150</td>\n",
       "    </tr>\n",
       "    <tr>\n",
       "      <th>min</th>\n",
       "      <td>0.000000</td>\n",
       "      <td>0.000000</td>\n",
       "      <td>0.000000</td>\n",
       "      <td>0.000000</td>\n",
       "      <td>0.000000</td>\n",
       "      <td>0.000000</td>\n",
       "      <td>0.000000</td>\n",
       "      <td>0.000000</td>\n",
       "      <td>0.000000</td>\n",
       "      <td>0.000000</td>\n",
       "      <td>0.000000</td>\n",
       "      <td>0.000000</td>\n",
       "    </tr>\n",
       "    <tr>\n",
       "      <th>25%</th>\n",
       "      <td>0.165354</td>\n",
       "      <td>0.190476</td>\n",
       "      <td>0.177419</td>\n",
       "      <td>0.166667</td>\n",
       "      <td>0.166667</td>\n",
       "      <td>0.153846</td>\n",
       "      <td>0.153846</td>\n",
       "      <td>0.214286</td>\n",
       "      <td>0.166667</td>\n",
       "      <td>0.526882</td>\n",
       "      <td>0.533333</td>\n",
       "      <td>0.580000</td>\n",
       "    </tr>\n",
       "    <tr>\n",
       "      <th>50%</th>\n",
       "      <td>0.291339</td>\n",
       "      <td>0.292517</td>\n",
       "      <td>0.298387</td>\n",
       "      <td>0.333333</td>\n",
       "      <td>0.333333</td>\n",
       "      <td>0.307692</td>\n",
       "      <td>0.230769</td>\n",
       "      <td>0.285714</td>\n",
       "      <td>0.250000</td>\n",
       "      <td>0.623656</td>\n",
       "      <td>0.644444</td>\n",
       "      <td>0.671667</td>\n",
       "    </tr>\n",
       "    <tr>\n",
       "      <th>75%</th>\n",
       "      <td>0.417323</td>\n",
       "      <td>0.401361</td>\n",
       "      <td>0.411290</td>\n",
       "      <td>0.416667</td>\n",
       "      <td>0.416667</td>\n",
       "      <td>0.461538</td>\n",
       "      <td>0.384615</td>\n",
       "      <td>0.428571</td>\n",
       "      <td>0.416667</td>\n",
       "      <td>0.731183</td>\n",
       "      <td>0.744444</td>\n",
       "      <td>0.770000</td>\n",
       "    </tr>\n",
       "    <tr>\n",
       "      <th>max</th>\n",
       "      <td>1.000000</td>\n",
       "      <td>1.000000</td>\n",
       "      <td>1.000000</td>\n",
       "      <td>1.000000</td>\n",
       "      <td>1.000000</td>\n",
       "      <td>1.000000</td>\n",
       "      <td>1.000000</td>\n",
       "      <td>1.000000</td>\n",
       "      <td>1.000000</td>\n",
       "      <td>1.000000</td>\n",
       "      <td>1.000000</td>\n",
       "      <td>1.000000</td>\n",
       "    </tr>\n",
       "  </tbody>\n",
       "</table>\n",
       "</div>"
      ],
      "text/plain": [
       "       HOURS_DATASCIENCE  HOURS_BACKEND  HOURS_FRONTEND  \\\n",
       "count       20000.000000   20000.000000    20000.000000   \n",
       "mean            0.295771       0.296266        0.297889   \n",
       "std             0.176302       0.152191        0.166005   \n",
       "min             0.000000       0.000000        0.000000   \n",
       "25%             0.165354       0.190476        0.177419   \n",
       "50%             0.291339       0.292517        0.298387   \n",
       "75%             0.417323       0.401361        0.411290   \n",
       "max             1.000000       1.000000        1.000000   \n",
       "\n",
       "       NUM_COURSES_BEGINNER_DATASCIENCE  NUM_COURSES_BEGINNER_BACKEND  \\\n",
       "count                      20000.000000                  20000.000000   \n",
       "mean                           0.308208                      0.309617   \n",
       "std                            0.166733                      0.175110   \n",
       "min                            0.000000                      0.000000   \n",
       "25%                            0.166667                      0.166667   \n",
       "50%                            0.333333                      0.333333   \n",
       "75%                            0.416667                      0.416667   \n",
       "max                            1.000000                      1.000000   \n",
       "\n",
       "       NUM_COURSES_BEGINNER_FRONTEND  NUM_COURSES_ADVANCED_DATASCIENCE  \\\n",
       "count                   20000.000000                      20000.000000   \n",
       "mean                        0.311431                          0.261323   \n",
       "std                         0.176563                          0.162411   \n",
       "min                         0.000000                          0.000000   \n",
       "25%                         0.153846                          0.153846   \n",
       "50%                         0.307692                          0.230769   \n",
       "75%                         0.461538                          0.384615   \n",
       "max                         1.000000                          1.000000   \n",
       "\n",
       "       NUM_COURSES_ADVANCED_BACKEND  NUM_COURSES_ADVANCED_FRONTEND  \\\n",
       "count                  20000.000000                   20000.000000   \n",
       "mean                       0.310296                       0.280654   \n",
       "std                        0.154396                       0.165589   \n",
       "min                        0.000000                       0.000000   \n",
       "25%                        0.214286                       0.166667   \n",
       "50%                        0.285714                       0.250000   \n",
       "75%                        0.428571                       0.416667   \n",
       "max                        1.000000                       1.000000   \n",
       "\n",
       "       AVG_SCORE_DATASCIENCE  AVG_SCORE_BACKEND  AVG_SCORE_FRONTEND  \n",
       "count           20000.000000       20000.000000        20000.000000  \n",
       "mean                0.624878           0.636063            0.671173  \n",
       "std                 0.149902           0.157747            0.144150  \n",
       "min                 0.000000           0.000000            0.000000  \n",
       "25%                 0.526882           0.533333            0.580000  \n",
       "50%                 0.623656           0.644444            0.671667  \n",
       "75%                 0.731183           0.744444            0.770000  \n",
       "max                 1.000000           1.000000            1.000000  "
      ]
     },
     "execution_count": 12,
     "metadata": {},
     "output_type": "execute_result"
    }
   ],
   "source": [
    "columns_norm = ['HOURS_DATASCIENCE',\n",
    " 'HOURS_BACKEND',\n",
    " 'HOURS_FRONTEND',\n",
    " 'AVG_SCORE_DATASCIENCE',\n",
    " 'AVG_SCORE_BACKEND',\n",
    " 'AVG_SCORE_FRONTEND']\n",
    "\n",
    "scaler = MinMaxScaler()\n",
    "scaler.fit(df_healthy[columns])\n",
    "df_healthy[columns] = scaler.transform(df_healthy[columns])\n",
    "df_healthy.describe()"
   ]
  },
  {
   "cell_type": "markdown",
   "metadata": {},
   "source": [
    "# UPsampling Data\n",
    "La diferencia entre clases no es muy alta pero por buenas prácticas, vamos a nivelar las clases para que los modelos no tengan preferencias por desbalance."
   ]
  },
  {
   "cell_type": "code",
   "execution_count": 13,
   "metadata": {},
   "outputs": [
    {
     "data": {
      "text/plain": [
       "advanced_front_end       3339\n",
       "beginner_front_end       3339\n",
       "beginner_backend         3339\n",
       "beginner_data_science    3339\n",
       "advanced_backend         3339\n",
       "advanced_data_science    3339\n",
       "Name: PROFILE, dtype: int64"
      ]
     },
     "execution_count": 13,
     "metadata": {},
     "output_type": "execute_result"
    }
   ],
   "source": [
    "count4bal = df_healthy['PROFILE'].value_counts().sort_values(ascending=True)\n",
    "class_sorter = count4bal.index.tolist()[:-1]\n",
    "class_mayor = count4bal.index[-1]\n",
    "mayority_sample = count4bal[-1]\n",
    "df_balanced = df_healthy.loc[df_healthy['PROFILE']==class_mayor]\n",
    "for class_i in class_sorter:\n",
    "    df_minor_upsampled = resample(df_healthy.loc[df_healthy['PROFILE']==class_i], \n",
    "                             replace=True,     # sample with replacement\n",
    "                             n_samples=mayority_sample,    # to match majority class\n",
    "                             random_state=17) # reproducible results\n",
    "\n",
    "    df_balanced = pd.concat([df_balanced,df_minor_upsampled ],ignore_index=True)\n",
    "df_balanced['PROFILE'].value_counts()"
   ]
  },
  {
   "cell_type": "markdown",
   "metadata": {},
   "source": [
    "# Graficando las variables saneadas"
   ]
  },
  {
   "cell_type": "code",
   "execution_count": 14,
   "metadata": {},
   "outputs": [
    {
     "data": {
      "image/png": "[encoded data removed]",
      "text/plain": [
       "<Figure size 2016x864 with 12 Axes>"
      ]
     },
     "metadata": {
      "needs_background": "light"
     },
     "output_type": "display_data"
    }
   ],
   "source": [
    "fig, axes = plt.subplots(nrows=3, ncols=4, figsize=(28, 12))\n",
    "for ax, column in zip(axes.flatten(),columns):\n",
    "    sns.distplot(df_balanced[column], ax=ax )"
   ]
  },
  {
   "cell_type": "markdown",
   "metadata": {},
   "source": [
    "# Categorizando"
   ]
  },
  {
   "cell_type": "code",
   "execution_count": 20,
   "metadata": {},
   "outputs": [
    {
     "data": {
      "text/html": [
       "<div>\n",
       "<style scoped>\n",
       "    .dataframe tbody tr th:only-of-type {\n",
       "        vertical-align: middle;\n",
       "    }\n",
       "\n",
       "    .dataframe tbody tr th {\n",
       "        vertical-align: top;\n",
       "    }\n",
       "\n",
       "    .dataframe thead th {\n",
       "        text-align: right;\n",
       "    }\n",
       "</style>\n",
       "<table border=\"1\" class=\"dataframe\">\n",
       "  <thead>\n",
       "    <tr style=\"text-align: right;\">\n",
       "      <th></th>\n",
       "      <th>HOURS_DATASCIENCE</th>\n",
       "      <th>HOURS_BACKEND</th>\n",
       "      <th>HOURS_FRONTEND</th>\n",
       "      <th>NUM_COURSES_BEGINNER_DATASCIENCE</th>\n",
       "      <th>NUM_COURSES_BEGINNER_BACKEND</th>\n",
       "      <th>NUM_COURSES_BEGINNER_FRONTEND</th>\n",
       "      <th>NUM_COURSES_ADVANCED_DATASCIENCE</th>\n",
       "      <th>NUM_COURSES_ADVANCED_BACKEND</th>\n",
       "      <th>NUM_COURSES_ADVANCED_FRONTEND</th>\n",
       "      <th>AVG_SCORE_DATASCIENCE</th>\n",
       "      <th>AVG_SCORE_BACKEND</th>\n",
       "      <th>AVG_SCORE_FRONTEND</th>\n",
       "      <th>PROFILE</th>\n",
       "    </tr>\n",
       "  </thead>\n",
       "  <tbody>\n",
       "    <tr>\n",
       "      <th>0</th>\n",
       "      <td>2</td>\n",
       "      <td>3</td>\n",
       "      <td>2</td>\n",
       "      <td>4</td>\n",
       "      <td>2</td>\n",
       "      <td>3</td>\n",
       "      <td>3</td>\n",
       "      <td>0</td>\n",
       "      <td>3</td>\n",
       "      <td>7</td>\n",
       "      <td>6</td>\n",
       "      <td>6</td>\n",
       "      <td>advanced_backend</td>\n",
       "    </tr>\n",
       "    <tr>\n",
       "      <th>1</th>\n",
       "      <td>1</td>\n",
       "      <td>4</td>\n",
       "      <td>4</td>\n",
       "      <td>3</td>\n",
       "      <td>1</td>\n",
       "      <td>3</td>\n",
       "      <td>5</td>\n",
       "      <td>4</td>\n",
       "      <td>5</td>\n",
       "      <td>5</td>\n",
       "      <td>6</td>\n",
       "      <td>7</td>\n",
       "      <td>advanced_backend</td>\n",
       "    </tr>\n",
       "    <tr>\n",
       "      <th>2</th>\n",
       "      <td>2</td>\n",
       "      <td>4</td>\n",
       "      <td>4</td>\n",
       "      <td>3</td>\n",
       "      <td>0</td>\n",
       "      <td>6</td>\n",
       "      <td>3</td>\n",
       "      <td>0</td>\n",
       "      <td>8</td>\n",
       "      <td>9</td>\n",
       "      <td>6</td>\n",
       "      <td>7</td>\n",
       "      <td>advanced_backend</td>\n",
       "    </tr>\n",
       "    <tr>\n",
       "      <th>3</th>\n",
       "      <td>1</td>\n",
       "      <td>3</td>\n",
       "      <td>2</td>\n",
       "      <td>4</td>\n",
       "      <td>2</td>\n",
       "      <td>5</td>\n",
       "      <td>3</td>\n",
       "      <td>3</td>\n",
       "      <td>3</td>\n",
       "      <td>6</td>\n",
       "      <td>7</td>\n",
       "      <td>6</td>\n",
       "      <td>advanced_backend</td>\n",
       "    </tr>\n",
       "    <tr>\n",
       "      <th>4</th>\n",
       "      <td>1</td>\n",
       "      <td>2</td>\n",
       "      <td>1</td>\n",
       "      <td>4</td>\n",
       "      <td>2</td>\n",
       "      <td>3</td>\n",
       "      <td>4</td>\n",
       "      <td>2</td>\n",
       "      <td>4</td>\n",
       "      <td>6</td>\n",
       "      <td>7</td>\n",
       "      <td>6</td>\n",
       "      <td>advanced_backend</td>\n",
       "    </tr>\n",
       "  </tbody>\n",
       "</table>\n",
       "</div>"
      ],
      "text/plain": [
       "   HOURS_DATASCIENCE  HOURS_BACKEND  HOURS_FRONTEND  \\\n",
       "0                  2              3               2   \n",
       "1                  1              4               4   \n",
       "2                  2              4               4   \n",
       "3                  1              3               2   \n",
       "4                  1              2               1   \n",
       "\n",
       "   NUM_COURSES_BEGINNER_DATASCIENCE  NUM_COURSES_BEGINNER_BACKEND  \\\n",
       "0                                 4                             2   \n",
       "1                                 3                             1   \n",
       "2                                 3                             0   \n",
       "3                                 4                             2   \n",
       "4                                 4                             2   \n",
       "\n",
       "   NUM_COURSES_BEGINNER_FRONTEND  NUM_COURSES_ADVANCED_DATASCIENCE  \\\n",
       "0                              3                                 3   \n",
       "1                              3                                 5   \n",
       "2                              6                                 3   \n",
       "3                              5                                 3   \n",
       "4                              3                                 4   \n",
       "\n",
       "   NUM_COURSES_ADVANCED_BACKEND  NUM_COURSES_ADVANCED_FRONTEND  \\\n",
       "0                             0                              3   \n",
       "1                             4                              5   \n",
       "2                             0                              8   \n",
       "3                             3                              3   \n",
       "4                             2                              4   \n",
       "\n",
       "   AVG_SCORE_DATASCIENCE  AVG_SCORE_BACKEND  AVG_SCORE_FRONTEND  \\\n",
       "0                      7                  6                   6   \n",
       "1                      5                  6                   7   \n",
       "2                      9                  6                   7   \n",
       "3                      6                  7                   6   \n",
       "4                      6                  7                   6   \n",
       "\n",
       "            PROFILE  \n",
       "0  advanced_backend  \n",
       "1  advanced_backend  \n",
       "2  advanced_backend  \n",
       "3  advanced_backend  \n",
       "4  advanced_backend  "
      ]
     },
     "execution_count": 20,
     "metadata": {},
     "output_type": "execute_result"
    }
   ],
   "source": [
    "df_cat = df_balanced.copy()\n",
    "bins = 10\n",
    "for column in columns:\n",
    "    df_cat[column] = pd.cut(df_balanced[column], bins=bins,labels= [i for i in range(bins)] ).astype(int)\n",
    "\n",
    "df_cat.head()"
   ]
  },
  {
   "cell_type": "markdown",
   "metadata": {},
   "source": [
    "# Reducción de dimencionalidad ONEHOT PCA & SCALER\n",
    "Al cambiar al onehot las variables categóricas, se generan 120 columnas, por lo que se presenta la posibilidad de usar PCA para reducir la dimencionalidad"
   ]
  },
  {
   "cell_type": "code",
   "execution_count": 227,
   "metadata": {},
   "outputs": [
    {
     "data": {
      "text/html": [
       "<div>\n",
       "<style scoped>\n",
       "    .dataframe tbody tr th:only-of-type {\n",
       "        vertical-align: middle;\n",
       "    }\n",
       "\n",
       "    .dataframe tbody tr th {\n",
       "        vertical-align: top;\n",
       "    }\n",
       "\n",
       "    .dataframe thead th {\n",
       "        text-align: right;\n",
       "    }\n",
       "</style>\n",
       "<table border=\"1\" class=\"dataframe\">\n",
       "  <thead>\n",
       "    <tr style=\"text-align: right;\">\n",
       "      <th></th>\n",
       "      <th>0</th>\n",
       "      <th>1</th>\n",
       "      <th>2</th>\n",
       "      <th>3</th>\n",
       "      <th>4</th>\n",
       "      <th>5</th>\n",
       "      <th>6</th>\n",
       "      <th>7</th>\n",
       "      <th>8</th>\n",
       "      <th>9</th>\n",
       "      <th>PROFILE</th>\n",
       "    </tr>\n",
       "  </thead>\n",
       "  <tbody>\n",
       "    <tr>\n",
       "      <th>0</th>\n",
       "      <td>0.713121</td>\n",
       "      <td>0.879145</td>\n",
       "      <td>0.448669</td>\n",
       "      <td>0.380022</td>\n",
       "      <td>0.301621</td>\n",
       "      <td>0.498025</td>\n",
       "      <td>0.724577</td>\n",
       "      <td>0.775507</td>\n",
       "      <td>0.553241</td>\n",
       "      <td>0.236454</td>\n",
       "      <td>advanced_backend</td>\n",
       "    </tr>\n",
       "    <tr>\n",
       "      <th>1</th>\n",
       "      <td>0.468859</td>\n",
       "      <td>0.639880</td>\n",
       "      <td>0.307034</td>\n",
       "      <td>0.365704</td>\n",
       "      <td>0.397478</td>\n",
       "      <td>0.675527</td>\n",
       "      <td>0.695670</td>\n",
       "      <td>0.378411</td>\n",
       "      <td>0.186899</td>\n",
       "      <td>0.676245</td>\n",
       "      <td>advanced_backend</td>\n",
       "    </tr>\n",
       "    <tr>\n",
       "      <th>2</th>\n",
       "      <td>0.639036</td>\n",
       "      <td>0.518887</td>\n",
       "      <td>0.268295</td>\n",
       "      <td>0.206186</td>\n",
       "      <td>0.602288</td>\n",
       "      <td>0.453822</td>\n",
       "      <td>0.671400</td>\n",
       "      <td>0.485060</td>\n",
       "      <td>0.354018</td>\n",
       "      <td>0.554312</td>\n",
       "      <td>advanced_backend</td>\n",
       "    </tr>\n",
       "    <tr>\n",
       "      <th>3</th>\n",
       "      <td>0.660637</td>\n",
       "      <td>0.772716</td>\n",
       "      <td>0.423948</td>\n",
       "      <td>0.374332</td>\n",
       "      <td>0.519097</td>\n",
       "      <td>0.247718</td>\n",
       "      <td>0.301132</td>\n",
       "      <td>0.636415</td>\n",
       "      <td>0.500808</td>\n",
       "      <td>0.347140</td>\n",
       "      <td>advanced_backend</td>\n",
       "    </tr>\n",
       "    <tr>\n",
       "      <th>4</th>\n",
       "      <td>0.716024</td>\n",
       "      <td>0.566835</td>\n",
       "      <td>0.593402</td>\n",
       "      <td>0.697436</td>\n",
       "      <td>0.195609</td>\n",
       "      <td>0.070515</td>\n",
       "      <td>0.466630</td>\n",
       "      <td>0.391364</td>\n",
       "      <td>0.551233</td>\n",
       "      <td>0.410439</td>\n",
       "      <td>advanced_backend</td>\n",
       "    </tr>\n",
       "  </tbody>\n",
       "</table>\n",
       "</div>"
      ],
      "text/plain": [
       "          0         1         2         3         4         5         6  \\\n",
       "0  0.713121  0.879145  0.448669  0.380022  0.301621  0.498025  0.724577   \n",
       "1  0.468859  0.639880  0.307034  0.365704  0.397478  0.675527  0.695670   \n",
       "2  0.639036  0.518887  0.268295  0.206186  0.602288  0.453822  0.671400   \n",
       "3  0.660637  0.772716  0.423948  0.374332  0.519097  0.247718  0.301132   \n",
       "4  0.716024  0.566835  0.593402  0.697436  0.195609  0.070515  0.466630   \n",
       "\n",
       "          7         8         9           PROFILE  \n",
       "0  0.775507  0.553241  0.236454  advanced_backend  \n",
       "1  0.378411  0.186899  0.676245  advanced_backend  \n",
       "2  0.485060  0.354018  0.554312  advanced_backend  \n",
       "3  0.636415  0.500808  0.347140  advanced_backend  \n",
       "4  0.391364  0.551233  0.410439  advanced_backend  "
      ]
     },
     "execution_count": 227,
     "metadata": {},
     "output_type": "execute_result"
    }
   ],
   "source": [
    "for column in columns:\n",
    "    df_cat[column] = df_cat[column] .astype(str)\n",
    "df_catdumm = pd.get_dummies(df_cat.drop(columns=['PROFILE'])).join(df_cat['PROFILE'])\n",
    "n_components = 10\n",
    "pca = PCA(n_components = n_components)\n",
    "pca.fit(df_catdumm.drop(columns=['PROFILE']))\n",
    "df_catdumm = pd.DataFrame(data = pca.transform(df_catdumm.drop(columns=['PROFILE'])) ).join(df_catdumm['PROFILE'])  \n",
    "# SCALANDO LOS DATOS DESPUES DEL PCA\n",
    "scaler_PCA = MinMaxScaler()\n",
    "scaler_PCA.fit(df_catdumm[[i for i in range(n_components)]])\n",
    "df_catdumm[[i for i in range(n_components)]]= scaler_PCA.transform(df_catdumm[[i for i in range(n_components)]])\n",
    "df_catdumm.head()"
   ]
  },
  {
   "cell_type": "markdown",
   "metadata": {},
   "source": [
    "## Graficando las variables categóricas"
   ]
  },
  {
   "cell_type": "code",
   "execution_count": 212,
   "metadata": {},
   "outputs": [
    {
     "data": {
      "image/png": "[encoded data removed]",
      "text/plain": [
       "<Figure size 2016x864 with 12 Axes>"
      ]
     },
     "metadata": {
      "needs_background": "light"
     },
     "output_type": "display_data"
    }
   ],
   "source": [
    "fig, axes = plt.subplots(nrows=3, ncols=4, figsize=(28, 12))\n",
    "for ax, column in zip(axes.flatten(),columns):\n",
    "    sns.distplot(df_cat[column], ax=ax )"
   ]
  },
  {
   "cell_type": "markdown",
   "metadata": {},
   "source": [
    "# MODEL TIME"
   ]
  },
  {
   "cell_type": "code",
   "execution_count": 18,
   "metadata": {},
   "outputs": [],
   "source": [
    "from xgboost.sklearn import XGBClassifier\n",
    "from sklearn.model_selection import train_test_split, GridSearchCV , RandomizedSearchCV,StratifiedKFold\n",
    "#from imblearn.ensemble import BalancedBaggingClassifier\n",
    "from sklearn.ensemble import RandomForestClassifier, VotingClassifier,AdaBoostClassifier,GradientBoostingClassifier,BaggingClassifier,ExtraTreesClassifier, StackingClassifier\n",
    "from sklearn.model_selection import StratifiedKFold, KFold,cross_val_score\n",
    "from sklearn.gaussian_process.kernels import RBF\n",
    "from sklearn.metrics import accuracy_score,confusion_matrix\n",
    "#from sklearn import svm\n",
    "from sklearn.svm import LinearSVC\n",
    "from sklearn.linear_model import SGDClassifier\n",
    "from sklearn.decomposition import PCA\n",
    "#from sklearn.neighbors import NeighborhoodComponentsAnalysis as NCA\n",
    "from sklearn.neighbors import KNeighborsClassifier as KNC\n",
    "from collections import defaultdict\n",
    "from sklearn.metrics import classification_report\n",
    "\n",
    "from sklearn.model_selection import KFold\n",
    "from sklearn.impute import SimpleImputer\n",
    "from sklearn.model_selection import train_test_split\n",
    "from sklearn.pipeline import Pipeline\n",
    "best_parameters = defaultdict(list) # 'xgb': XGBClassifier(),\n",
    "X_train       = df_balanced.drop(columns=['PROFILE'])\n",
    "y_train       = df_balanced['PROFILE']"
   ]
  },
  {
   "cell_type": "code",
   "execution_count": 58,
   "metadata": {},
   "outputs": [
    {
     "name": "stdout",
     "output_type": "stream",
     "text": [
      "######### MODEL tunning hyper-parameters for gbc\n",
      "# gbc - Tuning hyper-parameters for f1\n",
      "Best parameters set found on development set:\n",
      "\n",
      "{'criterion': 'mse', 'learning_rate': 0.1, 'loss': 'deviance', 'max_depth': 8, 'n_estimators': 400, 'random_state': 15, 'subsample': 1.0}\n",
      "Grid scores on development set:\n",
      "\n",
      "Detailed classification report:\n",
      "\n",
      "                       precision    recall  f1-score   support\n",
      "\n",
      "     advanced_backend       1.00      1.00      1.00      3339\n",
      "advanced_data_science       1.00      1.00      1.00      3339\n",
      "   advanced_front_end       1.00      1.00      1.00      3339\n",
      "     beginner_backend       1.00      1.00      1.00      3339\n",
      "beginner_data_science       1.00      1.00      1.00      3339\n",
      "   beginner_front_end       1.00      1.00      1.00      3339\n",
      "\n",
      "             accuracy                           1.00     20034\n",
      "            macro avg       1.00      1.00      1.00     20034\n",
      "         weighted avg       1.00      1.00      1.00     20034\n",
      "\n"
     ]
    }
   ],
   "source": [
    "##NOTA:\n",
    "# El metodo df_catdumm (cat+PCA+scalar) no sirve, entrega un pesimo rendimiento        F1 = 0.64\n",
    "# EL metodo df_cat (usar bandas -10 para agrupar valores) entregó un rendimiento medio F1=0.81\n",
    "# EL método df_balanced entregó un rendimiento de F1 = 0.93\n",
    "X_train       = df_balanced.drop(columns=['PROFILE'])\n",
    "y_train       = df_balanced['PROFILE']\n",
    "\n",
    "\n",
    "skf = StratifiedKFold(n_splits=10)\n",
    "cross_cal = []\n",
    "# Parameters to tune\n",
    "# SVC\n",
    "tuned_parameters_svc = [{'penalty': ['l2','l1'], 'loss': ['squared_hinge','hinge'],'C': [100,1000], 'max_iter': [3000], 'random_state':[15], 'dual':[False]}]\n",
    "# XGB\n",
    "tuned_parameters_xgb = [{'learning_rate':[0.01],'n_estimators':[450,600,650],'min_child_weight':[.01],'subsample':[.5,.4],'colsample_bytree':[0.5],\n",
    "                    'objective':['binary:logistic'],'n_jobs':[-1],'random_state':[15] },\n",
    "                    {'learning_rate':[0.02,0.2],'n_estimators':[450,600],'min_child_weight':[.01],'subsample':[.1,.2,.4],'colsample_bytree':[0.5],\n",
    "                    'objective':['binary:logistic'],'n_jobs':[-1],'random_state':[15] }]\n",
    "#KNC\n",
    "tuned_parameters_knc = [{'n_neighbors':[2,4,6,8,10,12,20,40],'n_jobs':[-1],'algorithm':['auto', 'ball_tree', 'kd_tree', 'brute'],'p':[1,2]}]\n",
    "\n",
    "#RFC\n",
    "tuned_parameters_rfc = [{'n_estimators':[150,200,300,400],'criterion':['gini','entropy'],'min_samples_split':[2,3,4,5],'n_jobs':[-1],'random_state':[15]}]\n",
    "\n",
    "#GBC\n",
    "tuned_parameters_gbc = [{'loss':['deviance'],'learning_rate':[0.1,0.01],'n_estimators':[300,400],'subsample':[1.0],'criterion':[ 'mse'],'max_depth':[3,8],'random_state':[15]}]\n",
    "\n",
    "#ETC\n",
    "tuned_parameters_etc = [{ 'min_samples_split':[1.0,.2,.4,.8], 'n_estimators':[400,500],'warm_start':[True,False],'bootstrap':[True],\n",
    "                         'n_jobs':[-1], 'random_state':[15], 'min_samples_leaf':[3,4,5,6] ,'criterion':['gini', 'entropy'],'max_features':[ 'sqrt','log2']   }]\n",
    "\n",
    "# Parameter tunning\n",
    "scores = ['f1']\n",
    "\n",
    "# Best parameters\n",
    "\n",
    "models = {'gbc':GradientBoostingClassifier(), }# 'xgb': XGBClassifier(), 'svc':LinearSVC(), 'rfc':RandomForestClassifier(), 'knc': KNC(),'gbc':GradientBoostingClassifier(),'etc':ExtraTreesClassifier() }\n",
    "parameters = {'xgb': tuned_parameters_xgb, 'knc': tuned_parameters_knc,'rfc':tuned_parameters_rfc,'svc':tuned_parameters_svc, 'gbc':tuned_parameters_gbc, 'etc':tuned_parameters_etc }\n",
    "\n",
    "#;ista = ['etc']\n",
    "for model_name in models.keys():\n",
    "    print(\"######### MODEL tunning hyper-parameters for %s\" % model_name)\n",
    "    for score in scores:\n",
    "        print(\"# %s - Tuning hyper-parameters for %s\" % (model_name, score))\n",
    "        clf_i = GridSearchCV(models[model_name], parameters[model_name], scoring='%s_macro' % score, n_jobs=-1, cv=skf)\n",
    "        clf_i.fit(X_train,y_train)\n",
    "        print(\"Best parameters set found on development set:\")\n",
    "        print()\n",
    "        print(clf_i.best_params_)\n",
    "        best_parameters[model_name] = clf_i.best_params_\n",
    "        print(\"Grid scores on development set:\")\n",
    "        print()\n",
    "        means = clf_i.cv_results_['mean_test_score']\n",
    "        stds = clf_i.cv_results_['std_test_score']\n",
    "#         for mean, std, params in zip(means, stds, clf_i.cv_results_['params']):\n",
    "#             print(\"%s_macro - %0.3f (+/-%0.03f) for %r\"% (score, mean, std * 2, params))\n",
    "        print(\"Detailed classification report:\")\n",
    "        print()\n",
    "        y_true, y_pred = y_train, clf_i.predict(X_train)\n",
    "        print(classification_report(y_true, y_pred))"
   ]
  },
  {
   "cell_type": "code",
   "execution_count": 20,
   "metadata": {},
   "outputs": [],
   "source": [
    "## SVC\n",
    "best_parameters['svc'] = {'C': 100, 'dual': False, 'loss': 'squared_hinge', 'max_iter': 3000, 'penalty': 'l1', 'random_state': 15} #0.71\n",
    "\n",
    "## XGB\n",
    "best_parameters['xgb'] = {'colsample_bytree': 0.5, 'learning_rate': 0.2, 'min_child_weight': 0.01, 'n_estimators': 600, 'n_jobs': -1, 'objective': 'binary:logistic', 'random_state': 15, 'subsample': 0.4} # 1.0\n",
    "\n",
    "##knc\n",
    "best_parameters['knc'] = {'algorithm': 'auto', 'n_jobs': -1, 'n_neighbors': 2, 'p': 1} #0.93\n",
    "\n",
    "##rfc\n",
    "best_parameters['rfc'] = {'criterion': 'entropy', 'min_samples_split': 2, 'n_estimators': 300, 'n_jobs': -1, 'random_state': 15} # 1.0\n",
    "\n",
    "##GBC\n",
    "best_parameters['gbc'] = {'criterion': 'mse', 'learning_rate': 0.1, 'loss': 'deviance', 'max_depth': 8, 'n_estimators': 400, 'random_state': 15, 'subsample': 1.0} #1\n",
    "\n",
    "\n",
    "\n",
    "##ETC\n",
    "{'bootstrap': True, 'criterion': 'entropy', 'max_features': 'sqrt', 'min_samples_leaf': 3, 'min_samples_split': 0.2, 'n_estimators': 300, 'n_jobs': -1, 'random_state': 15, 'warm_start': True}\n",
    "{'bootstrap': True, 'criterion': 'entropy', 'max_features': 'sqrt', 'min_samples_leaf': 6, 'min_samples_split': 0.2, 'n_estimators': 400, 'n_jobs': -1, 'random_state': 15, 'warm_start': True} #0.73\n",
    "\n",
    "best_parameters['etc'] =  {'bootstrap': True, 'criterion': 'entropy', 'max_features': 'sqrt', 'min_samples_leaf': 3, 'min_samples_split': 0.2, 'n_estimators': 500, 'n_jobs': -1, 'random_state': 15, 'warm_start': True} #0.74\n",
    "\n",
    "\n",
    "\n",
    "\n",
    "\n",
    "\n"
   ]
  },
  {
   "cell_type": "markdown",
   "metadata": {},
   "source": [
    "## Bagging Classifier MODEL - GRIDSEARCH + CV"
   ]
  },
  {
   "cell_type": "code",
   "execution_count": null,
   "metadata": {},
   "outputs": [
    {
     "name": "stdout",
     "output_type": "stream",
     "text": [
      "######### Bagging MODEL tunning hyper-parameters for xgb\n",
      "# xgb - Tuning hyper-parameters for f1\n"
     ]
    }
   ],
   "source": [
    "clf_gbc = GradientBoostingClassifier(**best_parameters['gbc'] )#n_estimators=80, n_jobs=-1)# 20 - 80\n",
    "clf_RFC = RandomForestClassifier(**best_parameters['rfc'] )#\n",
    "clf_KNC = KNC(**best_parameters['knc'] )\n",
    "xgb_model = XGBClassifier(**best_parameters['xgb'])\n",
    "svc = LinearSVC(**best_parameters['svc'])\n",
    "etc = ExtraTreesClassifier(**best_parameters['etc'])\n",
    "\n",
    "models = { 'xgb': xgb_model,'svc':svc, 'rfc':clf_RFC, 'knc': clf_KNC,'gbc':clf_gbc,'etc':etc }\n",
    "\n",
    "skf = StratifiedKFold(n_splits=5)\n",
    "# Parameter tunning\n",
    "scores = ['f1']\n",
    "# Best parameters\n",
    "best_parameters_bagging = defaultdict(list)\n",
    "#lista = ['etc']\n",
    "for model_name in models.keys():\n",
    "    params_bagging = [{'n_estimators': [10,40,80,100,150], 'max_samples':[.8,1.0],'base_estimator': [models[model_name]],'n_jobs':[-1] }]\n",
    "    print(\"######### Bagging MODEL tunning hyper-parameters for %s\" % model_name)\n",
    "    for score in scores:\n",
    "        print(\"# %s - Tuning hyper-parameters for %s\" % (model_name, score))\n",
    "        clf_i = GridSearchCV(BaggingClassifier(), params_bagging, scoring='%s_macro' % score, n_jobs=-1, cv=skf)\n",
    "        clf_i.fit(X_train,y_train)\n",
    "        print(\"Best parameters set found on development set:\")\n",
    "        print()\n",
    "        print(clf_i.best_params_)\n",
    "        best_parameters_bagging[model_name] = clf_i.best_params_\n",
    "        print(\"Grid scores on development set:\")\n",
    "        print()\n",
    "        means = clf_i.cv_results_['mean_test_score']\n",
    "        stds = clf_i.cv_results_['std_test_score']\n",
    "#         for mean, std, params in zip(means, stds, clf_i.cv_results_['params']):\n",
    "#             print(\"%s_macro - %0.3f (+/-%0.03f) for %r\"% (score, mean, std * 2, params))\n",
    "        print(\"Detailed Bagging classification report:\")\n",
    "        print()\n",
    "        y_true, y_pred = y_train, clf_i.predict(X_train)\n",
    "        print(classification_report(y_true, y_pred))"
   ]
  },
  {
   "cell_type": "markdown",
   "metadata": {},
   "source": [
    "### Loading Bagging Parameters"
   ]
  },
  {
   "cell_type": "code",
   "execution_count": null,
   "metadata": {},
   "outputs": [],
   "source": [
    "clf_gbc = GradientBoostingClassifier(**best_parameters['gbc'] )#n_estimators=80, n_jobs=-1)# 20 - 80\n",
    "clf_RFC = RandomForestClassifier(**best_parameters['rfc'] )#\n",
    "clf_KNC = KNC(**best_parameters['knc'] )\n",
    "xgb_model = XGBClassifier(**best_parameters['xgb'])\n",
    "svc = LinearSVC(**best_parameters['svc'])\n",
    "etc = ExtraTreesClassifier(**best_parameters['etc'])\n",
    "\n",
    "best_parameters_bagging = defaultdict(list,\n",
    "            {'xgb': {'base_estimator': xgb_model,\n",
    "              'max_samples': 1.0,\n",
    "              'n_estimators': 80,\n",
    "              'n_jobs': -1},\n",
    "             'svc': {'base_estimator': svc,\n",
    "              'max_samples': 1.0,\n",
    "              'n_estimators': 40,\n",
    "              'n_jobs': -1},\n",
    "             'rfc': {'base_estimator': clf_RFC,\n",
    "              'max_samples': 1.0,\n",
    "              'n_estimators': 10,\n",
    "              'n_jobs': -1},\n",
    "             'knc': {'base_estimator': clf_KNC,\n",
    "              'max_samples': 1.0,\n",
    "              'n_estimators': 10,\n",
    "              'n_jobs': -1},\n",
    "             'gbc': {'base_estimator': clf_gbc,\n",
    "              'max_samples': 0.8,\n",
    "              'n_estimators': 10,\n",
    "              'n_jobs': -1},\n",
    "             'etc': {'base_estimator': etc,\n",
    "              'max_samples': 1.0,\n",
    "              'n_estimators': 100,\n",
    "              'n_jobs': -1}})"
   ]
  },
  {
   "cell_type": "markdown",
   "metadata": {},
   "source": [
    "## Voting Classifier Model"
   ]
  },
  {
   "cell_type": "code",
   "execution_count": null,
   "metadata": {},
   "outputs": [],
   "source": [
    "from sklearn.model_selection import StratifiedKFold, KFold,cross_val_score #( X_train_PCA , label)\n",
    "from sklearn.metrics import f1_score\n",
    "skf = StratifiedKFold(n_splits=5)\n",
    "\n",
    "b_xgb_model=BaggingClassifier( **best_parameters_bagging['xgb'] )\n",
    "b_clf_KNC  =BaggingClassifier( **best_parameters_bagging['knc'] )\n",
    "b_clf_RFC  =BaggingClassifier( **best_parameters_bagging['rfc'] )\n",
    "b_svc      =BaggingClassifier( **best_parameters_bagging['svc'] )\n",
    "b_clf_gbc  =BaggingClassifier( **best_parameters_bagging['gbc'] )\n",
    "b_etc      =BaggingClassifier( **best_parameters_bagging['etc'] )\n",
    "\n",
    "best_parameters_vc = defaultdict(list)\n",
    "weights = [1,1,1,1,1,1]\n",
    "\n",
    "\n",
    "model_VC = VotingClassifier (estimators=[ ('xgb', b_xgb_model), ('knc', b_clf_KNC),('rfc',b_clf_RFC),('svc',b_svc),('gbc',b_clf_gbc),('etc',b_etc)], voting='hard', weights=weights,n_jobs=-1)\n",
    "model_VC.fit(X_train,y_train)\n",
    "y_pred = model_VC.predict(X_train)\n",
    "\n",
    "print('F1 Score for Voting model = {}'.format(f1_score(y_train, y_pred, average='macro')))\n",
    "plot_confusion_matrix(y_true=y_train, y_pred=y_pred, class_names=['No', 'Yes'],title=\"VotingClassifier\",normalize=True,size=4)"
   ]
  },
  {
   "cell_type": "markdown",
   "metadata": {},
   "source": [
    "## STACKING CLASSIFIER"
   ]
  },
  {
   "cell_type": "code",
   "execution_count": null,
   "metadata": {},
   "outputs": [],
   "source": [
    "from sklearn.ensemble import StackingClassifier\n",
    "from sklearn.model_selection import StratifiedKFold, KFold,cross_val_score #( X_train_PCA , label)\n",
    "from sklearn.metrics import f1_score\n",
    "skf = StratifiedKFold(n_splits=5)\n",
    "\n",
    "b_xgb_model=BaggingClassifier( **best_parameters_bagging['xgb'] )\n",
    "b_clf_KNC  =BaggingClassifier( **best_parameters_bagging['knc'] )\n",
    "b_clf_RFC  =BaggingClassifier( **best_parameters_bagging['rfc'] )\n",
    "b_svc      =BaggingClassifier( **best_parameters_bagging['svc'] )\n",
    "b_clf_gbc  =BaggingClassifier( **best_parameters_bagging['gbc'] )\n",
    "b_etc      =BaggingClassifier( **best_parameters_bagging['etc'] )\n",
    "\n",
    "best_parameters_vc = defaultdict(list)\n",
    "weights = [1,1,1,1,1,1]\n",
    "\n",
    "\n",
    "model_SC = StackingClassifier (estimators=[ ('xgb', b_xgb_model), ('knc', b_clf_KNC),('rfc',b_clf_RFC),('svc',b_svc),('gbc',b_clf_gbc),('etc',b_etc)], voting='hard', final_estimator = b_xgb_model, cv = skf,n_jobs=-1)\n",
    "model_SC.fit(X_train,y_train)\n",
    "y_pred = model_SC.predict(X_train)\n",
    "\n",
    "print('F1 Score for Stacking model = {}'.format(f1_score(y_train, y_pred, average='macro')))\n",
    "plot_confusion_matrix(y_true=y_train, y_pred=y_pred, class_names=['No', 'Yes'],title=\"Stacking Clasifier\",normalize=True,size=4)"
   ]
  },
  {
   "cell_type": "code",
   "execution_count": null,
   "metadata": {},
   "outputs": [],
   "source": []
  },
  {
   "cell_type": "code",
   "execution_count": null,
   "metadata": {},
   "outputs": [],
   "source": []
  },
  {
   "cell_type": "code",
   "execution_count": null,
   "metadata": {},
   "outputs": [],
   "source": []
  },
  {
   "cell_type": "code",
   "execution_count": null,
   "metadata": {},
   "outputs": [],
   "source": []
  },
  {
   "cell_type": "code",
   "execution_count": null,
   "metadata": {},
   "outputs": [],
   "source": []
  },
  {
   "cell_type": "markdown",
   "metadata": {},
   "source": [
    "### Preprocesamiento de datos"
   ]
  },
  {
   "cell_type": "markdown",
   "metadata": {},
   "source": [
    "Para el preprocesamiento de los datos, se presentarán en este notebook dos transformaciones básicas, demostrando la construcción de un Pipeline con un modelo funcional. Este Pipeline funcional provisto debe ser mejorado por el participante para que el modelo final alcance la mayor precisión posible, garantizando una mayor puntuación en el desafío. Esta mejora solo se puede realizar en el preprocesamiento de los datos, en la elección de un algoritmo para el entrenamiento de diferentes modelos, o incluso en la alteración del **framework** utilizado (sin embargo, solo se entregará un ejemplo de integración de Watson Machine Learning con *scikit-learn*).\n",
    "\n",
    "La primera transformación (paso en nuestro Pipeline) será la exclusión de la columna \"NOMBRE\" de nuestro conjunto de datos, que además de no ser una variable numérica, tampoco es una variable relacionada con el desempeño de los estudiantes en las disciplinas. Hay funciones listas para usar en *scikit-learn* para realizar esta transformación, sin embargo, nuestro ejemplo demostrará cómo crear una transformación personalizada desde cero en scikit-learn. Si lo desea, el participante puede usar este ejemplo para crear otras transformaciones y agregarlas al Pipeline final :)"
   ]
  },
  {
   "cell_type": "markdown",
   "metadata": {},
   "source": [
    "#### Transformación 1: excluir columnas del conjunto de datos\n",
    "\n",
    "Para la creación de una transformación de datos personalizada en scikit-learn, es necesario crear una clase con los métodos ``transform`` y ``fit``. En el método de 'transform', se ejecutará la lógica de nuestra transformación.\n",
    "\n",
    "La siguiente celda muestra el código completo de una transformación ``DropColumns`` para eliminar columnas de un pandas DataFrame."
   ]
  },
  {
   "cell_type": "code",
   "execution_count": 31,
   "metadata": {},
   "outputs": [],
   "source": [
    "from sklearn.base import BaseEstimator, TransformerMixin\n",
    "\n",
    "\n",
    "# All sklearn Transforms must have the `transform` and `fit` methods\n",
    "class DropColumns(BaseEstimator, TransformerMixin):\n",
    "    def __init__(self, columns):\n",
    "        self.columns = columns\n",
    "\n",
    "    def fit(self, X, y=None):\n",
    "        return self\n",
    "    \n",
    "    def transform(self, X):\n",
    "        # Primero copiamos el dataframe de datos de entrada 'X'\n",
    "        data = X.copy()\n",
    "        # Devolvemos un nuevo dataframe de datos sin las columnas no deseadas\n",
    "        return data.drop(labels=self.columns, axis='columns')"
   ]
  },
  {
   "cell_type": "markdown",
   "metadata": {},
   "source": [
    "Para aplicar esa transformación en un pandas DataFrame pandas, basta instanciar un objeto *DropColumns* y llamar el método transform()."
   ]
  },
  {
   "cell_type": "code",
   "execution_count": 32,
   "metadata": {},
   "outputs": [
    {
     "name": "stdout",
     "output_type": "stream",
     "text": [
      "DropColumns(columns=['NAME', 'Unnamed: 0'])\n"
     ]
    }
   ],
   "source": [
    "# Creación de instancias de una transformación DropColumns\n",
    "rm_columns = DropColumns(\n",
    "    columns=[\"NAME\", \"Unnamed: 0\"]  # Esta transformación toma como parámetro una lista con los nombres de las columnas no deseadas\n",
    ")\n",
    "\n",
    "print(rm_columns)"
   ]
  },
  {
   "cell_type": "code",
   "execution_count": 33,
   "metadata": {},
   "outputs": [
    {
     "name": "stdout",
     "output_type": "stream",
     "text": [
      "Columnas del conjunto de datos original: \n",
      "\n",
      "Index(['Unnamed: 0', 'NAME', 'USER_ID', 'HOURS_DATASCIENCE', 'HOURS_BACKEND',\n",
      "       'HOURS_FRONTEND', 'NUM_COURSES_BEGINNER_DATASCIENCE',\n",
      "       'NUM_COURSES_BEGINNER_BACKEND', 'NUM_COURSES_BEGINNER_FRONTEND',\n",
      "       'NUM_COURSES_ADVANCED_DATASCIENCE', 'NUM_COURSES_ADVANCED_BACKEND',\n",
      "       'NUM_COURSES_ADVANCED_FRONTEND', 'AVG_SCORE_DATASCIENCE',\n",
      "       'AVG_SCORE_BACKEND', 'AVG_SCORE_FRONTEND', 'PROFILE'],\n",
      "      dtype='object')\n"
     ]
    }
   ],
   "source": [
    "# Ver las columnas del conjunto de datos original\n",
    "print(\"Columnas del conjunto de datos original: \\n\")\n",
    "print(df_training_dataset.columns)"
   ]
  },
  {
   "cell_type": "code",
   "execution_count": 34,
   "metadata": {},
   "outputs": [],
   "source": [
    "# Aplicar la transformación ``DropColumns`` al conjunto de datos base\n",
    "rm_columns.fit(X=df_training_dataset)\n",
    "\n",
    "# Reconstruyendo un DataFrame de Pandas con el resultado de la transformación\n",
    "df_training_dataset_2 = pd.DataFrame.from_records(\n",
    "    data=rm_columns.transform(\n",
    "        X=df_training_dataset\n",
    "    ),\n",
    ")"
   ]
  },
  {
   "cell_type": "code",
   "execution_count": 35,
   "metadata": {},
   "outputs": [
    {
     "name": "stdout",
     "output_type": "stream",
     "text": [
      "Columnas del conjunto de datos después de la transformación ``DropColumns``: \n",
      "\n",
      "Index(['USER_ID', 'HOURS_DATASCIENCE', 'HOURS_BACKEND', 'HOURS_FRONTEND',\n",
      "       'NUM_COURSES_BEGINNER_DATASCIENCE', 'NUM_COURSES_BEGINNER_BACKEND',\n",
      "       'NUM_COURSES_BEGINNER_FRONTEND', 'NUM_COURSES_ADVANCED_DATASCIENCE',\n",
      "       'NUM_COURSES_ADVANCED_BACKEND', 'NUM_COURSES_ADVANCED_FRONTEND',\n",
      "       'AVG_SCORE_DATASCIENCE', 'AVG_SCORE_BACKEND', 'AVG_SCORE_FRONTEND',\n",
      "       'PROFILE'],\n",
      "      dtype='object')\n"
     ]
    }
   ],
   "source": [
    "# Ver las columnas del conjunto de datos transformado\n",
    "print(\"Columnas del conjunto de datos después de la transformación ``DropColumns``: \\n\")\n",
    "print(df_training_dataset_2.columns)"
   ]
  },
  {
   "cell_type": "markdown",
   "metadata": {},
   "source": [
    "Tenga en cuenta que la columna \"NOMBRE\" se ha eliminado y nuestro conjunto de datos ahora solo tiene 14 columnas."
   ]
  },
  {
   "cell_type": "markdown",
   "metadata": {},
   "source": [
    "#### Transformación 2: tratamiento de datos faltantes\n",
    "\n",
    "Para manejar los datos que faltan en nuestro conjunto de datos, ahora usaremos una transformación lista para usar de la biblioteca scikit-learn, llamada **SimpleImputer**.\n",
    "\n",
    "Esta transformación permite varias estrategias para el tratamiento de datos faltantes. La documentación oficial se puede encontrar en: https://scikit-learn.org/stable/modules/generated/sklearn.impute.SimpleImputer.html\n",
    "\n",
    "En este ejemplo, simplemente haremos cero todos los valores faltantes."
   ]
  },
  {
   "cell_type": "code",
   "execution_count": 36,
   "metadata": {},
   "outputs": [],
   "source": [
    "# Crear un objeto ``SimpleImputer``\n",
    "si = SimpleImputer(\n",
    "    missing_values=np.nan,  # los valores que faltan son del tipo ``np.nan`` (Pandas estándar)\n",
    "    strategy='constant',  # la estrategia elegida es cambiar el valor faltante por una constante\n",
    "    fill_value=0,  # la constante que se usará para completar los valores faltantes es un int64 = 0\n",
    "    verbose=0,\n",
    "    copy=True\n",
    ")"
   ]
  },
  {
   "cell_type": "code",
   "execution_count": 37,
   "metadata": {},
   "outputs": [
    {
     "name": "stdout",
     "output_type": "stream",
     "text": [
      "Valores nulos antes de la transformación SimpleImputer: \n",
      "\n",
      "USER_ID                               0\n",
      "HOURS_DATASCIENCE                    14\n",
      "HOURS_BACKEND                        53\n",
      "HOURS_FRONTEND                       16\n",
      "NUM_COURSES_BEGINNER_DATASCIENCE     26\n",
      "NUM_COURSES_BEGINNER_BACKEND         18\n",
      "NUM_COURSES_BEGINNER_FRONTEND        39\n",
      "NUM_COURSES_ADVANCED_DATASCIENCE      2\n",
      "NUM_COURSES_ADVANCED_BACKEND          8\n",
      "NUM_COURSES_ADVANCED_FRONTEND        37\n",
      "AVG_SCORE_DATASCIENCE               220\n",
      "AVG_SCORE_BACKEND                    84\n",
      "AVG_SCORE_FRONTEND                  168\n",
      "PROFILE                               0\n",
      "dtype: int64\n",
      "\n"
     ]
    }
   ],
   "source": [
    "# Ver los datos faltantes del conjunto de datos antes de la primera transformación (df_data_2)\n",
    "print(\"Valores nulos antes de la transformación SimpleImputer: \\n\\n{}\\n\".format(df_training_dataset_2.isnull().sum(axis = 0)))"
   ]
  },
  {
   "cell_type": "code",
   "execution_count": 38,
   "metadata": {},
   "outputs": [],
   "source": [
    "# Aplicamos el SimpleImputer ``si`` al conjunto de datos df_data_2 (resultado de la primera transformación)\n",
    "si.fit(X=df_training_dataset_2)\n",
    "\n",
    "# Reconstrucción de un nuevo DataFrame de Pandas con el conjunto imputado (df_data_3)\n",
    "df_training_dataset_3 = pd.DataFrame.from_records(\n",
    "    data=si.transform(\n",
    "        X=df_training_dataset_2\n",
    "    ),  # el resultado SimpleImputer.transform (<< pandas dataframe >>) es lista lista\n",
    "    columns=df_training_dataset_2.columns  # las columnas originales deben conservarse en esta transformación\n",
    ")"
   ]
  },
  {
   "cell_type": "code",
   "execution_count": 39,
   "metadata": {},
   "outputs": [
    {
     "name": "stdout",
     "output_type": "stream",
     "text": [
      "Valores nulos en el conjunto de datos después de la transformación SimpleImputer: \n",
      "\n",
      "USER_ID                             0\n",
      "HOURS_DATASCIENCE                   0\n",
      "HOURS_BACKEND                       0\n",
      "HOURS_FRONTEND                      0\n",
      "NUM_COURSES_BEGINNER_DATASCIENCE    0\n",
      "NUM_COURSES_BEGINNER_BACKEND        0\n",
      "NUM_COURSES_BEGINNER_FRONTEND       0\n",
      "NUM_COURSES_ADVANCED_DATASCIENCE    0\n",
      "NUM_COURSES_ADVANCED_BACKEND        0\n",
      "NUM_COURSES_ADVANCED_FRONTEND       0\n",
      "AVG_SCORE_DATASCIENCE               0\n",
      "AVG_SCORE_BACKEND                   0\n",
      "AVG_SCORE_FRONTEND                  0\n",
      "PROFILE                             0\n",
      "dtype: int64\n",
      "\n"
     ]
    }
   ],
   "source": [
    "# Ver los datos faltantes del conjunto de datos después de la segunda transformación (SimpleImputer) (df_data_3)\n",
    "print(\"Valores nulos en el conjunto de datos después de la transformación SimpleImputer: \\n\\n{}\\n\".format(df_training_dataset_3.isnull().sum(axis = 0)))"
   ]
  },
  {
   "cell_type": "markdown",
   "metadata": {},
   "source": [
    "Tenga en cuenta que ya no tenemos valores perdidos en nuestro conjunto de datos :)\n",
    "\n",
    "Vale la pena señalar que cambiar los valores perdidos por 0 no siempre es la mejor estrategia. Se anima al participante a estudiar e implementar diferentes estrategias para tratar los valores perdidos para mejorar su modelo y mejorar su puntuación final."
   ]
  },
  {
   "cell_type": "markdown",
   "metadata": {},
   "source": [
    "### Entrenando un modelo de clasificación"
   ]
  },
  {
   "cell_type": "markdown",
   "metadata": {},
   "source": [
    "Una vez finalizado el preprocesamiento, ya tenemos el conjunto de datos en el formato necesario para entrenar nuestro modelo:"
   ]
  },
  {
   "cell_type": "code",
   "execution_count": 40,
   "metadata": {},
   "outputs": [
    {
     "data": {
      "text/html": [
       "<div>\n",
       "<style scoped>\n",
       "    .dataframe tbody tr th:only-of-type {\n",
       "        vertical-align: middle;\n",
       "    }\n",
       "\n",
       "    .dataframe tbody tr th {\n",
       "        vertical-align: top;\n",
       "    }\n",
       "\n",
       "    .dataframe thead th {\n",
       "        text-align: right;\n",
       "    }\n",
       "</style>\n",
       "<table border=\"1\" class=\"dataframe\">\n",
       "  <thead>\n",
       "    <tr style=\"text-align: right;\">\n",
       "      <th></th>\n",
       "      <th>USER_ID</th>\n",
       "      <th>HOURS_DATASCIENCE</th>\n",
       "      <th>HOURS_BACKEND</th>\n",
       "      <th>HOURS_FRONTEND</th>\n",
       "      <th>NUM_COURSES_BEGINNER_DATASCIENCE</th>\n",
       "      <th>NUM_COURSES_BEGINNER_BACKEND</th>\n",
       "      <th>NUM_COURSES_BEGINNER_FRONTEND</th>\n",
       "      <th>NUM_COURSES_ADVANCED_DATASCIENCE</th>\n",
       "      <th>NUM_COURSES_ADVANCED_BACKEND</th>\n",
       "      <th>NUM_COURSES_ADVANCED_FRONTEND</th>\n",
       "      <th>AVG_SCORE_DATASCIENCE</th>\n",
       "      <th>AVG_SCORE_BACKEND</th>\n",
       "      <th>AVG_SCORE_FRONTEND</th>\n",
       "      <th>PROFILE</th>\n",
       "    </tr>\n",
       "  </thead>\n",
       "  <tbody>\n",
       "    <tr>\n",
       "      <th>0</th>\n",
       "      <td>58283940</td>\n",
       "      <td>7.0</td>\n",
       "      <td>39.0</td>\n",
       "      <td>29.0</td>\n",
       "      <td>2.0</td>\n",
       "      <td>4.0</td>\n",
       "      <td>0.0</td>\n",
       "      <td>2.0</td>\n",
       "      <td>5.0</td>\n",
       "      <td>0.0</td>\n",
       "      <td>84.0</td>\n",
       "      <td>74.0</td>\n",
       "      <td>0.0</td>\n",
       "      <td>beginner_front_end</td>\n",
       "    </tr>\n",
       "    <tr>\n",
       "      <th>1</th>\n",
       "      <td>1357218</td>\n",
       "      <td>32.0</td>\n",
       "      <td>0.0</td>\n",
       "      <td>44.0</td>\n",
       "      <td>2.0</td>\n",
       "      <td>0.0</td>\n",
       "      <td>0.0</td>\n",
       "      <td>0.0</td>\n",
       "      <td>5.0</td>\n",
       "      <td>0.0</td>\n",
       "      <td>67.0</td>\n",
       "      <td>45.0</td>\n",
       "      <td>0.0</td>\n",
       "      <td>beginner_front_end</td>\n",
       "    </tr>\n",
       "    <tr>\n",
       "      <th>2</th>\n",
       "      <td>63212105</td>\n",
       "      <td>45.0</td>\n",
       "      <td>0.0</td>\n",
       "      <td>59.0</td>\n",
       "      <td>0.0</td>\n",
       "      <td>5.0</td>\n",
       "      <td>4.0</td>\n",
       "      <td>0.0</td>\n",
       "      <td>4.0</td>\n",
       "      <td>1.0</td>\n",
       "      <td>0.0</td>\n",
       "      <td>54.0</td>\n",
       "      <td>47.0</td>\n",
       "      <td>advanced_front_end</td>\n",
       "    </tr>\n",
       "    <tr>\n",
       "      <th>3</th>\n",
       "      <td>23239851</td>\n",
       "      <td>36.0</td>\n",
       "      <td>19.0</td>\n",
       "      <td>28.0</td>\n",
       "      <td>0.0</td>\n",
       "      <td>5.0</td>\n",
       "      <td>7.0</td>\n",
       "      <td>0.0</td>\n",
       "      <td>5.0</td>\n",
       "      <td>3.0</td>\n",
       "      <td>0.0</td>\n",
       "      <td>71.0</td>\n",
       "      <td>89.0</td>\n",
       "      <td>beginner_data_science</td>\n",
       "    </tr>\n",
       "    <tr>\n",
       "      <th>4</th>\n",
       "      <td>72234478</td>\n",
       "      <td>61.0</td>\n",
       "      <td>78.0</td>\n",
       "      <td>38.0</td>\n",
       "      <td>6.0</td>\n",
       "      <td>11.0</td>\n",
       "      <td>0.0</td>\n",
       "      <td>4.0</td>\n",
       "      <td>3.0</td>\n",
       "      <td>0.0</td>\n",
       "      <td>66.0</td>\n",
       "      <td>85.0</td>\n",
       "      <td>0.0</td>\n",
       "      <td>advanced_front_end</td>\n",
       "    </tr>\n",
       "  </tbody>\n",
       "</table>\n",
       "</div>"
      ],
      "text/plain": [
       "    USER_ID  HOURS_DATASCIENCE  HOURS_BACKEND  HOURS_FRONTEND  \\\n",
       "0  58283940                7.0           39.0            29.0   \n",
       "1   1357218               32.0            0.0            44.0   \n",
       "2  63212105               45.0            0.0            59.0   \n",
       "3  23239851               36.0           19.0            28.0   \n",
       "4  72234478               61.0           78.0            38.0   \n",
       "\n",
       "   NUM_COURSES_BEGINNER_DATASCIENCE  NUM_COURSES_BEGINNER_BACKEND  \\\n",
       "0                               2.0                           4.0   \n",
       "1                               2.0                           0.0   \n",
       "2                               0.0                           5.0   \n",
       "3                               0.0                           5.0   \n",
       "4                               6.0                          11.0   \n",
       "\n",
       "   NUM_COURSES_BEGINNER_FRONTEND  NUM_COURSES_ADVANCED_DATASCIENCE  \\\n",
       "0                            0.0                               2.0   \n",
       "1                            0.0                               0.0   \n",
       "2                            4.0                               0.0   \n",
       "3                            7.0                               0.0   \n",
       "4                            0.0                               4.0   \n",
       "\n",
       "   NUM_COURSES_ADVANCED_BACKEND  NUM_COURSES_ADVANCED_FRONTEND  \\\n",
       "0                           5.0                            0.0   \n",
       "1                           5.0                            0.0   \n",
       "2                           4.0                            1.0   \n",
       "3                           5.0                            3.0   \n",
       "4                           3.0                            0.0   \n",
       "\n",
       "   AVG_SCORE_DATASCIENCE  AVG_SCORE_BACKEND  AVG_SCORE_FRONTEND  \\\n",
       "0                   84.0               74.0                 0.0   \n",
       "1                   67.0               45.0                 0.0   \n",
       "2                    0.0               54.0                47.0   \n",
       "3                    0.0               71.0                89.0   \n",
       "4                   66.0               85.0                 0.0   \n",
       "\n",
       "                 PROFILE  \n",
       "0     beginner_front_end  \n",
       "1     beginner_front_end  \n",
       "2     advanced_front_end  \n",
       "3  beginner_data_science  \n",
       "4     advanced_front_end  "
      ]
     },
     "execution_count": 40,
     "metadata": {},
     "output_type": "execute_result"
    }
   ],
   "source": [
    "df_training_dataset_3.head()"
   ]
  },
  {
   "cell_type": "markdown",
   "metadata": {},
   "source": [
    "En el ejemplo proporcionado, usaremos todas las columnas, excepto la columna **Profile** como *feautres* (variables de entrada).\n",
    "\n",
    "La variable **Profile** será la variable objetivo del modelo, como se describe en la declaración de desafío."
   ]
  },
  {
   "cell_type": "markdown",
   "metadata": {},
   "source": [
    "#### Definición de features del modelo"
   ]
  },
  {
   "cell_type": "code",
   "execution_count": 41,
   "metadata": {},
   "outputs": [],
   "source": [
    "# Definición de las columnas que seran features (Notese que la columna NOMBRE no esta presente)\n",
    "features = [\n",
    "    \"USER_ID\", \"HOURS_DATASCIENCE\", \"HOURS_BACKEND\", \"HOURS_FRONTEND\",\n",
    "    \"NUM_COURSES_BEGINNER_DATASCIENCE\", \"NUM_COURSES_BEGINNER_BACKEND\", \"NUM_COURSES_BEGINNER_FRONTEND\",\n",
    "    \"NUM_COURSES_ADVANCED_DATASCIENCE\", \"NUM_COURSES_ADVANCED_BACKEND\", \"NUM_COURSES_ADVANCED_FRONTEND\",\n",
    "    \"AVG_SCORE_DATASCIENCE\", \"AVG_SCORE_BACKEND\", \"AVG_SCORE_FRONTEND\"\n",
    "]\n",
    "\n",
    "# Definición de variable objetivo\n",
    "target = ['PROFILE']\n",
    "\n",
    "# Preparación de los argumentos para los métodos de la biblioteca ``scikit-learn``\n",
    "X = df_training_dataset_3[features]\n",
    "y = df_training_dataset_3[target]"
   ]
  },
  {
   "cell_type": "markdown",
   "metadata": {},
   "source": [
    "El conjunto de entrada (X):"
   ]
  },
  {
   "cell_type": "code",
   "execution_count": 44,
   "metadata": {},
   "outputs": [
    {
     "data": {
      "text/html": [
       "<div>\n",
       "<style scoped>\n",
       "    .dataframe tbody tr th:only-of-type {\n",
       "        vertical-align: middle;\n",
       "    }\n",
       "\n",
       "    .dataframe tbody tr th {\n",
       "        vertical-align: top;\n",
       "    }\n",
       "\n",
       "    .dataframe thead th {\n",
       "        text-align: right;\n",
       "    }\n",
       "</style>\n",
       "<table border=\"1\" class=\"dataframe\">\n",
       "  <thead>\n",
       "    <tr style=\"text-align: right;\">\n",
       "      <th></th>\n",
       "      <th>USER_ID</th>\n",
       "      <th>HOURS_DATASCIENCE</th>\n",
       "      <th>HOURS_BACKEND</th>\n",
       "      <th>HOURS_FRONTEND</th>\n",
       "      <th>NUM_COURSES_BEGINNER_DATASCIENCE</th>\n",
       "      <th>NUM_COURSES_BEGINNER_BACKEND</th>\n",
       "      <th>NUM_COURSES_BEGINNER_FRONTEND</th>\n",
       "      <th>NUM_COURSES_ADVANCED_DATASCIENCE</th>\n",
       "      <th>NUM_COURSES_ADVANCED_BACKEND</th>\n",
       "      <th>NUM_COURSES_ADVANCED_FRONTEND</th>\n",
       "      <th>AVG_SCORE_DATASCIENCE</th>\n",
       "      <th>AVG_SCORE_BACKEND</th>\n",
       "      <th>AVG_SCORE_FRONTEND</th>\n",
       "    </tr>\n",
       "  </thead>\n",
       "  <tbody>\n",
       "    <tr>\n",
       "      <th>0</th>\n",
       "      <td>58283940</td>\n",
       "      <td>7.0</td>\n",
       "      <td>39.0</td>\n",
       "      <td>29.0</td>\n",
       "      <td>2.0</td>\n",
       "      <td>4.0</td>\n",
       "      <td>0.0</td>\n",
       "      <td>2.0</td>\n",
       "      <td>5.0</td>\n",
       "      <td>0.0</td>\n",
       "      <td>84.0</td>\n",
       "      <td>74.0</td>\n",
       "      <td>0.0</td>\n",
       "    </tr>\n",
       "    <tr>\n",
       "      <th>1</th>\n",
       "      <td>1357218</td>\n",
       "      <td>32.0</td>\n",
       "      <td>0.0</td>\n",
       "      <td>44.0</td>\n",
       "      <td>2.0</td>\n",
       "      <td>0.0</td>\n",
       "      <td>0.0</td>\n",
       "      <td>0.0</td>\n",
       "      <td>5.0</td>\n",
       "      <td>0.0</td>\n",
       "      <td>67.0</td>\n",
       "      <td>45.0</td>\n",
       "      <td>0.0</td>\n",
       "    </tr>\n",
       "    <tr>\n",
       "      <th>2</th>\n",
       "      <td>63212105</td>\n",
       "      <td>45.0</td>\n",
       "      <td>0.0</td>\n",
       "      <td>59.0</td>\n",
       "      <td>0.0</td>\n",
       "      <td>5.0</td>\n",
       "      <td>4.0</td>\n",
       "      <td>0.0</td>\n",
       "      <td>4.0</td>\n",
       "      <td>1.0</td>\n",
       "      <td>0.0</td>\n",
       "      <td>54.0</td>\n",
       "      <td>47.0</td>\n",
       "    </tr>\n",
       "    <tr>\n",
       "      <th>3</th>\n",
       "      <td>23239851</td>\n",
       "      <td>36.0</td>\n",
       "      <td>19.0</td>\n",
       "      <td>28.0</td>\n",
       "      <td>0.0</td>\n",
       "      <td>5.0</td>\n",
       "      <td>7.0</td>\n",
       "      <td>0.0</td>\n",
       "      <td>5.0</td>\n",
       "      <td>3.0</td>\n",
       "      <td>0.0</td>\n",
       "      <td>71.0</td>\n",
       "      <td>89.0</td>\n",
       "    </tr>\n",
       "    <tr>\n",
       "      <th>4</th>\n",
       "      <td>72234478</td>\n",
       "      <td>61.0</td>\n",
       "      <td>78.0</td>\n",
       "      <td>38.0</td>\n",
       "      <td>6.0</td>\n",
       "      <td>11.0</td>\n",
       "      <td>0.0</td>\n",
       "      <td>4.0</td>\n",
       "      <td>3.0</td>\n",
       "      <td>0.0</td>\n",
       "      <td>66.0</td>\n",
       "      <td>85.0</td>\n",
       "      <td>0.0</td>\n",
       "    </tr>\n",
       "  </tbody>\n",
       "</table>\n",
       "</div>"
      ],
      "text/plain": [
       "    USER_ID  HOURS_DATASCIENCE  HOURS_BACKEND  HOURS_FRONTEND  \\\n",
       "0  58283940                7.0           39.0            29.0   \n",
       "1   1357218               32.0            0.0            44.0   \n",
       "2  63212105               45.0            0.0            59.0   \n",
       "3  23239851               36.0           19.0            28.0   \n",
       "4  72234478               61.0           78.0            38.0   \n",
       "\n",
       "   NUM_COURSES_BEGINNER_DATASCIENCE  NUM_COURSES_BEGINNER_BACKEND  \\\n",
       "0                               2.0                           4.0   \n",
       "1                               2.0                           0.0   \n",
       "2                               0.0                           5.0   \n",
       "3                               0.0                           5.0   \n",
       "4                               6.0                          11.0   \n",
       "\n",
       "   NUM_COURSES_BEGINNER_FRONTEND  NUM_COURSES_ADVANCED_DATASCIENCE  \\\n",
       "0                            0.0                               2.0   \n",
       "1                            0.0                               0.0   \n",
       "2                            4.0                               0.0   \n",
       "3                            7.0                               0.0   \n",
       "4                            0.0                               4.0   \n",
       "\n",
       "   NUM_COURSES_ADVANCED_BACKEND  NUM_COURSES_ADVANCED_FRONTEND  \\\n",
       "0                           5.0                            0.0   \n",
       "1                           5.0                            0.0   \n",
       "2                           4.0                            1.0   \n",
       "3                           5.0                            3.0   \n",
       "4                           3.0                            0.0   \n",
       "\n",
       "   AVG_SCORE_DATASCIENCE  AVG_SCORE_BACKEND  AVG_SCORE_FRONTEND  \n",
       "0                   84.0               74.0                 0.0  \n",
       "1                   67.0               45.0                 0.0  \n",
       "2                    0.0               54.0                47.0  \n",
       "3                    0.0               71.0                89.0  \n",
       "4                   66.0               85.0                 0.0  "
      ]
     },
     "execution_count": 44,
     "metadata": {},
     "output_type": "execute_result"
    }
   ],
   "source": [
    "X.head()"
   ]
  },
  {
   "cell_type": "markdown",
   "metadata": {},
   "source": [
    "La variable objetivo (y):"
   ]
  },
  {
   "cell_type": "code",
   "execution_count": 45,
   "metadata": {},
   "outputs": [
    {
     "data": {
      "text/html": [
       "<div>\n",
       "<style scoped>\n",
       "    .dataframe tbody tr th:only-of-type {\n",
       "        vertical-align: middle;\n",
       "    }\n",
       "\n",
       "    .dataframe tbody tr th {\n",
       "        vertical-align: top;\n",
       "    }\n",
       "\n",
       "    .dataframe thead th {\n",
       "        text-align: right;\n",
       "    }\n",
       "</style>\n",
       "<table border=\"1\" class=\"dataframe\">\n",
       "  <thead>\n",
       "    <tr style=\"text-align: right;\">\n",
       "      <th></th>\n",
       "      <th>PROFILE</th>\n",
       "    </tr>\n",
       "  </thead>\n",
       "  <tbody>\n",
       "    <tr>\n",
       "      <th>0</th>\n",
       "      <td>beginner_front_end</td>\n",
       "    </tr>\n",
       "    <tr>\n",
       "      <th>1</th>\n",
       "      <td>beginner_front_end</td>\n",
       "    </tr>\n",
       "    <tr>\n",
       "      <th>2</th>\n",
       "      <td>advanced_front_end</td>\n",
       "    </tr>\n",
       "    <tr>\n",
       "      <th>3</th>\n",
       "      <td>beginner_data_science</td>\n",
       "    </tr>\n",
       "    <tr>\n",
       "      <th>4</th>\n",
       "      <td>advanced_front_end</td>\n",
       "    </tr>\n",
       "  </tbody>\n",
       "</table>\n",
       "</div>"
      ],
      "text/plain": [
       "                 PROFILE\n",
       "0     beginner_front_end\n",
       "1     beginner_front_end\n",
       "2     advanced_front_end\n",
       "3  beginner_data_science\n",
       "4     advanced_front_end"
      ]
     },
     "execution_count": 45,
     "metadata": {},
     "output_type": "execute_result"
    }
   ],
   "source": [
    "y.head()"
   ]
  },
  {
   "cell_type": "markdown",
   "metadata": {},
   "source": [
    "#### Separar el conjunto de datos en un conjunto de entrenamiento y un conjunto de prueba"
   ]
  },
  {
   "cell_type": "markdown",
   "metadata": {},
   "source": [
    "Separaremos el conjunto de datos provisto en dos grupos: uno para entrenar nuestro modelo y otro para probar el resultado a través de una prueba ciega. La separación del conjunto de datos se puede hacer fácilmente con el método *train_test_split ()* de scikit-learn:"
   ]
  },
  {
   "cell_type": "code",
   "execution_count": 48,
   "metadata": {},
   "outputs": [],
   "source": [
    "# Separación de datos en conjunto de entrenamiento y conjunto de pruebas\n",
    "X_train, X_test, y_train, y_test = train_test_split(X, y, test_size=0.3, random_state=337, stratify=y)"
   ]
  },
  {
   "cell_type": "markdown",
   "metadata": {},
   "source": [
    "#### Creando un modelo basado en árboles de decisión"
   ]
  },
  {
   "cell_type": "markdown",
   "metadata": {},
   "source": [
    "En el ejemplo proporcionado, crearemos un clasificador basado en **árboles de decisión**.\n",
    "\n",
    "El primer paso es básicamente crear una instancia de un objeto *DecisionTreeClassifier ()* de la biblioteca scikit-learn."
   ]
  },
  {
   "cell_type": "code",
   "execution_count": 49,
   "metadata": {},
   "outputs": [],
   "source": [
    "# Creando el árbol de decisiones con la biblioteca ``scikit-learn``:\n",
    "dtc_model = DecisionTreeClassifier()  # El modelo se creará con los parámetros estándar de la biblioteca"
   ]
  },
  {
   "cell_type": "markdown",
   "metadata": {},
   "source": [
    "Material teórico sobre árboles de decisión en la documentación oficial de scikit-learn: https://scikit-learn.org/stable/modules/tree.html\n",
    "\n",
    "Una guía para principiantes del mundo del aprendizaje automático: https://developer.ibm.com/es/patterns/use-icp4d-to-build-the-machine-learning-model-for-return-propensity/"
   ]
  },
  {
   "cell_type": "markdown",
   "metadata": {},
   "source": [
    "#### Ejecucion del entrenamiento del árbol de descisión "
   ]
  },
  {
   "cell_type": "code",
   "execution_count": 50,
   "metadata": {},
   "outputs": [
    {
     "data": {
      "text/plain": [
       "DecisionTreeClassifier()"
      ]
     },
     "execution_count": 50,
     "metadata": {},
     "output_type": "execute_result"
    }
   ],
   "source": [
    "# Entrenamiento de modelos (llamado método *fit ()* con conjuntos de entrenamiento)\n",
    "dtc_model.fit(\n",
    "    X_train,\n",
    "    y_train\n",
    ")"
   ]
  },
  {
   "cell_type": "markdown",
   "metadata": {},
   "source": [
    "#### Ejecución de predicciones y evaluación del modelo creado"
   ]
  },
  {
   "cell_type": "code",
   "execution_count": 51,
   "metadata": {},
   "outputs": [],
   "source": [
    "# Realización de una prueba a ciegas en el modelo creado\n",
    "y_pred = dtc_model.predict(X_test)"
   ]
  },
  {
   "cell_type": "code",
   "execution_count": 52,
   "metadata": {},
   "outputs": [
    {
     "data": {
      "text/html": [
       "<div>\n",
       "<style scoped>\n",
       "    .dataframe tbody tr th:only-of-type {\n",
       "        vertical-align: middle;\n",
       "    }\n",
       "\n",
       "    .dataframe tbody tr th {\n",
       "        vertical-align: top;\n",
       "    }\n",
       "\n",
       "    .dataframe thead th {\n",
       "        text-align: right;\n",
       "    }\n",
       "</style>\n",
       "<table border=\"1\" class=\"dataframe\">\n",
       "  <thead>\n",
       "    <tr style=\"text-align: right;\">\n",
       "      <th></th>\n",
       "      <th>USER_ID</th>\n",
       "      <th>HOURS_DATASCIENCE</th>\n",
       "      <th>HOURS_BACKEND</th>\n",
       "      <th>HOURS_FRONTEND</th>\n",
       "      <th>NUM_COURSES_BEGINNER_DATASCIENCE</th>\n",
       "      <th>NUM_COURSES_BEGINNER_BACKEND</th>\n",
       "      <th>NUM_COURSES_BEGINNER_FRONTEND</th>\n",
       "      <th>NUM_COURSES_ADVANCED_DATASCIENCE</th>\n",
       "      <th>NUM_COURSES_ADVANCED_BACKEND</th>\n",
       "      <th>NUM_COURSES_ADVANCED_FRONTEND</th>\n",
       "      <th>AVG_SCORE_DATASCIENCE</th>\n",
       "      <th>AVG_SCORE_BACKEND</th>\n",
       "      <th>AVG_SCORE_FRONTEND</th>\n",
       "    </tr>\n",
       "  </thead>\n",
       "  <tbody>\n",
       "    <tr>\n",
       "      <th>2293</th>\n",
       "      <td>61732372</td>\n",
       "      <td>59.0</td>\n",
       "      <td>82.0</td>\n",
       "      <td>16.0</td>\n",
       "      <td>6.0</td>\n",
       "      <td>2.0</td>\n",
       "      <td>4.0</td>\n",
       "      <td>9.0</td>\n",
       "      <td>7.0</td>\n",
       "      <td>4.0</td>\n",
       "      <td>57.0</td>\n",
       "      <td>41.0</td>\n",
       "      <td>65.0</td>\n",
       "    </tr>\n",
       "    <tr>\n",
       "      <th>4313</th>\n",
       "      <td>11822181</td>\n",
       "      <td>50.0</td>\n",
       "      <td>35.0</td>\n",
       "      <td>15.0</td>\n",
       "      <td>4.0</td>\n",
       "      <td>3.0</td>\n",
       "      <td>2.0</td>\n",
       "      <td>9.0</td>\n",
       "      <td>3.0</td>\n",
       "      <td>8.0</td>\n",
       "      <td>67.0</td>\n",
       "      <td>79.0</td>\n",
       "      <td>62.0</td>\n",
       "    </tr>\n",
       "    <tr>\n",
       "      <th>19931</th>\n",
       "      <td>52677657</td>\n",
       "      <td>42.0</td>\n",
       "      <td>34.0</td>\n",
       "      <td>0.0</td>\n",
       "      <td>6.0</td>\n",
       "      <td>3.0</td>\n",
       "      <td>7.0</td>\n",
       "      <td>0.0</td>\n",
       "      <td>10.0</td>\n",
       "      <td>3.0</td>\n",
       "      <td>52.0</td>\n",
       "      <td>72.0</td>\n",
       "      <td>44.0</td>\n",
       "    </tr>\n",
       "    <tr>\n",
       "      <th>6606</th>\n",
       "      <td>82483565</td>\n",
       "      <td>72.0</td>\n",
       "      <td>23.0</td>\n",
       "      <td>43.0</td>\n",
       "      <td>1.0</td>\n",
       "      <td>6.0</td>\n",
       "      <td>4.0</td>\n",
       "      <td>4.0</td>\n",
       "      <td>4.0</td>\n",
       "      <td>2.0</td>\n",
       "      <td>58.0</td>\n",
       "      <td>49.0</td>\n",
       "      <td>64.0</td>\n",
       "    </tr>\n",
       "    <tr>\n",
       "      <th>1471</th>\n",
       "      <td>93639478</td>\n",
       "      <td>30.0</td>\n",
       "      <td>85.0</td>\n",
       "      <td>42.0</td>\n",
       "      <td>6.0</td>\n",
       "      <td>4.0</td>\n",
       "      <td>5.0</td>\n",
       "      <td>6.0</td>\n",
       "      <td>4.0</td>\n",
       "      <td>3.0</td>\n",
       "      <td>61.0</td>\n",
       "      <td>51.0</td>\n",
       "      <td>79.0</td>\n",
       "    </tr>\n",
       "  </tbody>\n",
       "</table>\n",
       "</div>"
      ],
      "text/plain": [
       "        USER_ID  HOURS_DATASCIENCE  HOURS_BACKEND  HOURS_FRONTEND  \\\n",
       "2293   61732372               59.0           82.0            16.0   \n",
       "4313   11822181               50.0           35.0            15.0   \n",
       "19931  52677657               42.0           34.0             0.0   \n",
       "6606   82483565               72.0           23.0            43.0   \n",
       "1471   93639478               30.0           85.0            42.0   \n",
       "\n",
       "       NUM_COURSES_BEGINNER_DATASCIENCE  NUM_COURSES_BEGINNER_BACKEND  \\\n",
       "2293                                6.0                           2.0   \n",
       "4313                                4.0                           3.0   \n",
       "19931                               6.0                           3.0   \n",
       "6606                                1.0                           6.0   \n",
       "1471                                6.0                           4.0   \n",
       "\n",
       "       NUM_COURSES_BEGINNER_FRONTEND  NUM_COURSES_ADVANCED_DATASCIENCE  \\\n",
       "2293                             4.0                               9.0   \n",
       "4313                             2.0                               9.0   \n",
       "19931                            7.0                               0.0   \n",
       "6606                             4.0                               4.0   \n",
       "1471                             5.0                               6.0   \n",
       "\n",
       "       NUM_COURSES_ADVANCED_BACKEND  NUM_COURSES_ADVANCED_FRONTEND  \\\n",
       "2293                            7.0                            4.0   \n",
       "4313                            3.0                            8.0   \n",
       "19931                          10.0                            3.0   \n",
       "6606                            4.0                            2.0   \n",
       "1471                            4.0                            3.0   \n",
       "\n",
       "       AVG_SCORE_DATASCIENCE  AVG_SCORE_BACKEND  AVG_SCORE_FRONTEND  \n",
       "2293                    57.0               41.0                65.0  \n",
       "4313                    67.0               79.0                62.0  \n",
       "19931                   52.0               72.0                44.0  \n",
       "6606                    58.0               49.0                64.0  \n",
       "1471                    61.0               51.0                79.0  "
      ]
     },
     "execution_count": 52,
     "metadata": {},
     "output_type": "execute_result"
    }
   ],
   "source": [
    "X_test.head()"
   ]
  },
  {
   "cell_type": "code",
   "execution_count": 53,
   "metadata": {},
   "outputs": [
    {
     "name": "stdout",
     "output_type": "stream",
     "text": [
      "['advanced_data_science' 'advanced_backend' 'advanced_data_science' ...\n",
      " 'beginner_backend' 'advanced_data_science' 'beginner_front_end']\n"
     ]
    }
   ],
   "source": [
    "print(y_pred)"
   ]
  },
  {
   "cell_type": "code",
   "execution_count": 54,
   "metadata": {},
   "outputs": [
    {
     "name": "stdout",
     "output_type": "stream",
     "text": [
      "Exactitud: 77.0%\n"
     ]
    }
   ],
   "source": [
    "from sklearn.metrics import accuracy_score\n",
    "\n",
    "# Precisión lograda por el árbol de decisiones\n",
    "print(\"Exactitud: {}%\".format(100*round(accuracy_score(y_test, y_pred), 2)))"
   ]
  },
  {
   "cell_type": "markdown",
   "metadata": {},
   "source": [
    "<hr>"
   ]
  },
  {
   "cell_type": "markdown",
   "metadata": {},
   "source": [
    "## Puntuación de los datos necesarios para entregar la solución\n",
    "\n",
    "Como entrega de su solución, esperamos que los resultados se clasifiquen en el siguiente dataset llamado \"to_be_scored_tortuga_fix.csv\":\n",
    "\n",
    "### Descarga la \"hoja de evaluación\""
   ]
  },
  {
   "cell_type": "code",
   "execution_count": 57,
   "metadata": {},
   "outputs": [
    {
     "name": "stderr",
     "output_type": "stream",
     "text": [
      "--2020-09-04 20:57:58--  https://raw.githubusercontent.com/vanderlei-test/dataset-tortuga/master/to_be_scored_tortuga_fix.csv\n",
      "Resolving raw.githubusercontent.com (raw.githubusercontent.com)... 151.101.0.133, 151.101.64.133, 151.101.128.133, ...\n",
      "Connecting to raw.githubusercontent.com (raw.githubusercontent.com)|151.101.0.133|:443... connected.\n",
      "HTTP request sent, awaiting response... 200 OK\n",
      "Length: 29095 (28K) [text/plain]\n",
      "Saving to: 'to_be_scored_tortuga_fix.csv.1'\n",
      "\n",
      "     0K .......... .......... ........                        100%  276K=0.1s\n",
      "\n",
      "2020-09-04 20:57:58 (276 KB/s) - 'to_be_scored_tortuga_fix.csv.1' saved [29095/29095]\n",
      "\n"
     ]
    },
    {
     "data": {
      "text/html": [
       "<div>\n",
       "<style scoped>\n",
       "    .dataframe tbody tr th:only-of-type {\n",
       "        vertical-align: middle;\n",
       "    }\n",
       "\n",
       "    .dataframe tbody tr th {\n",
       "        vertical-align: top;\n",
       "    }\n",
       "\n",
       "    .dataframe thead th {\n",
       "        text-align: right;\n",
       "    }\n",
       "</style>\n",
       "<table border=\"1\" class=\"dataframe\">\n",
       "  <thead>\n",
       "    <tr style=\"text-align: right;\">\n",
       "      <th></th>\n",
       "      <th>Unnamed: 0</th>\n",
       "      <th>NAME</th>\n",
       "      <th>USER_ID</th>\n",
       "      <th>HOURS_DATASCIENCE</th>\n",
       "      <th>HOURS_BACKEND</th>\n",
       "      <th>HOURS_FRONTEND</th>\n",
       "      <th>NUM_COURSES_BEGINNER_DATASCIENCE</th>\n",
       "      <th>NUM_COURSES_BEGINNER_BACKEND</th>\n",
       "      <th>NUM_COURSES_BEGINNER_FRONTEND</th>\n",
       "      <th>NUM_COURSES_ADVANCED_DATASCIENCE</th>\n",
       "      <th>NUM_COURSES_ADVANCED_BACKEND</th>\n",
       "      <th>NUM_COURSES_ADVANCED_FRONTEND</th>\n",
       "      <th>AVG_SCORE_DATASCIENCE</th>\n",
       "      <th>AVG_SCORE_BACKEND</th>\n",
       "      <th>AVG_SCORE_FRONTEND</th>\n",
       "    </tr>\n",
       "  </thead>\n",
       "  <tbody>\n",
       "    <tr>\n",
       "      <th>495</th>\n",
       "      <td>506</td>\n",
       "      <td>Eileen Finley</td>\n",
       "      <td>1147648</td>\n",
       "      <td>0</td>\n",
       "      <td>56</td>\n",
       "      <td>11</td>\n",
       "      <td>2</td>\n",
       "      <td>1</td>\n",
       "      <td>8</td>\n",
       "      <td>5</td>\n",
       "      <td>2</td>\n",
       "      <td>6</td>\n",
       "      <td>80</td>\n",
       "      <td>93</td>\n",
       "      <td>35</td>\n",
       "    </tr>\n",
       "    <tr>\n",
       "      <th>496</th>\n",
       "      <td>507</td>\n",
       "      <td>Cedric Buss</td>\n",
       "      <td>33729943</td>\n",
       "      <td>50</td>\n",
       "      <td>53</td>\n",
       "      <td>5</td>\n",
       "      <td>4</td>\n",
       "      <td>1</td>\n",
       "      <td>4</td>\n",
       "      <td>8</td>\n",
       "      <td>4</td>\n",
       "      <td>4</td>\n",
       "      <td>59</td>\n",
       "      <td>59</td>\n",
       "      <td>50</td>\n",
       "    </tr>\n",
       "    <tr>\n",
       "      <th>497</th>\n",
       "      <td>508</td>\n",
       "      <td>James Ray</td>\n",
       "      <td>62724217</td>\n",
       "      <td>35</td>\n",
       "      <td>35</td>\n",
       "      <td>63</td>\n",
       "      <td>3</td>\n",
       "      <td>0</td>\n",
       "      <td>0</td>\n",
       "      <td>5</td>\n",
       "      <td>3</td>\n",
       "      <td>5</td>\n",
       "      <td>35</td>\n",
       "      <td>54</td>\n",
       "      <td>59</td>\n",
       "    </tr>\n",
       "    <tr>\n",
       "      <th>498</th>\n",
       "      <td>509</td>\n",
       "      <td>Lauren Vega</td>\n",
       "      <td>71562358</td>\n",
       "      <td>42</td>\n",
       "      <td>4</td>\n",
       "      <td>58</td>\n",
       "      <td>6</td>\n",
       "      <td>6</td>\n",
       "      <td>5</td>\n",
       "      <td>7</td>\n",
       "      <td>7</td>\n",
       "      <td>5</td>\n",
       "      <td>78</td>\n",
       "      <td>59</td>\n",
       "      <td>79</td>\n",
       "    </tr>\n",
       "    <tr>\n",
       "      <th>499</th>\n",
       "      <td>510</td>\n",
       "      <td>Joshua Brown</td>\n",
       "      <td>48754463</td>\n",
       "      <td>6</td>\n",
       "      <td>47</td>\n",
       "      <td>39</td>\n",
       "      <td>5</td>\n",
       "      <td>2</td>\n",
       "      <td>8</td>\n",
       "      <td>5</td>\n",
       "      <td>4</td>\n",
       "      <td>9</td>\n",
       "      <td>88</td>\n",
       "      <td>83</td>\n",
       "      <td>61</td>\n",
       "    </tr>\n",
       "  </tbody>\n",
       "</table>\n",
       "</div>"
      ],
      "text/plain": [
       "     Unnamed: 0           NAME   USER_ID  HOURS_DATASCIENCE  HOURS_BACKEND  \\\n",
       "495         506  Eileen Finley   1147648                  0             56   \n",
       "496         507    Cedric Buss  33729943                 50             53   \n",
       "497         508      James Ray  62724217                 35             35   \n",
       "498         509    Lauren Vega  71562358                 42              4   \n",
       "499         510   Joshua Brown  48754463                  6             47   \n",
       "\n",
       "     HOURS_FRONTEND  NUM_COURSES_BEGINNER_DATASCIENCE  \\\n",
       "495              11                                 2   \n",
       "496               5                                 4   \n",
       "497              63                                 3   \n",
       "498              58                                 6   \n",
       "499              39                                 5   \n",
       "\n",
       "     NUM_COURSES_BEGINNER_BACKEND  NUM_COURSES_BEGINNER_FRONTEND  \\\n",
       "495                             1                              8   \n",
       "496                             1                              4   \n",
       "497                             0                              0   \n",
       "498                             6                              5   \n",
       "499                             2                              8   \n",
       "\n",
       "     NUM_COURSES_ADVANCED_DATASCIENCE  NUM_COURSES_ADVANCED_BACKEND  \\\n",
       "495                                 5                             2   \n",
       "496                                 8                             4   \n",
       "497                                 5                             3   \n",
       "498                                 7                             7   \n",
       "499                                 5                             4   \n",
       "\n",
       "     NUM_COURSES_ADVANCED_FRONTEND  AVG_SCORE_DATASCIENCE  AVG_SCORE_BACKEND  \\\n",
       "495                              6                     80                 93   \n",
       "496                              4                     59                 59   \n",
       "497                              5                     35                 54   \n",
       "498                              5                     78                 59   \n",
       "499                              9                     88                 83   \n",
       "\n",
       "     AVG_SCORE_FRONTEND  \n",
       "495                  35  \n",
       "496                  50  \n",
       "497                  59  \n",
       "498                  79  \n",
       "499                  61  "
      ]
     },
     "execution_count": 57,
     "metadata": {},
     "output_type": "execute_result"
    }
   ],
   "source": [
    "!wget --no-check-certificate --content-disposition https://raw.githubusercontent.com/vanderlei-test/dataset-tortuga/master/to_be_scored_tortuga_fix.csv\n",
    "df_to_be_scored = pd.read_csv(r'to_be_scored_tortuga_fix.csv')\n",
    "df_to_be_scored.tail()"
   ]
  },
  {
   "cell_type": "markdown",
   "metadata": {},
   "source": [
    "# ¡Atención!\n",
    "\n",
    "El Dataframe ``to_be_scored_tortuga`` es su \"hoja de evaluación\". Tenga en cuenta que la columna \"PROFILE\" hace falta en este dataset de evaluación, por lo que no se puede usar para entrenar modelos de aprendizaje supervisado."
   ]
  },
  {
   "cell_type": "code",
   "execution_count": 58,
   "metadata": {},
   "outputs": [
    {
     "name": "stdout",
     "output_type": "stream",
     "text": [
      "<class 'pandas.core.frame.DataFrame'>\n",
      "RangeIndex: 500 entries, 0 to 499\n",
      "Data columns (total 15 columns):\n",
      "Unnamed: 0                          500 non-null int64\n",
      "NAME                                500 non-null object\n",
      "USER_ID                             500 non-null int64\n",
      "HOURS_DATASCIENCE                   500 non-null int64\n",
      "HOURS_BACKEND                       500 non-null int64\n",
      "HOURS_FRONTEND                      500 non-null int64\n",
      "NUM_COURSES_BEGINNER_DATASCIENCE    500 non-null int64\n",
      "NUM_COURSES_BEGINNER_BACKEND        500 non-null int64\n",
      "NUM_COURSES_BEGINNER_FRONTEND       500 non-null int64\n",
      "NUM_COURSES_ADVANCED_DATASCIENCE    500 non-null int64\n",
      "NUM_COURSES_ADVANCED_BACKEND        500 non-null int64\n",
      "NUM_COURSES_ADVANCED_FRONTEND       500 non-null int64\n",
      "AVG_SCORE_DATASCIENCE               500 non-null int64\n",
      "AVG_SCORE_BACKEND                   500 non-null int64\n",
      "AVG_SCORE_FRONTEND                  500 non-null int64\n",
      "dtypes: int64(14), object(1)\n",
      "memory usage: 58.7+ KB\n"
     ]
    }
   ],
   "source": [
    "df_to_be_scored.info()"
   ]
  },
  {
   "cell_type": "markdown",
   "metadata": {},
   "source": [
    "<hr>\n",
    "\n",
    "# ¡Atención!\n",
    "\n",
    "# Para aplicar su modelo y clasificar la hoja de evaluación, primero debe aplicar las mismas transformaciones de columnas que aplicó al conjunto de datos de entrenamiento.\n",
    "\n",
    "# No elimine ni agregue líneas a la hoja de respuestas.\n",
    "\n",
    "# No cambie el orden de las líneas en la hoja de respuestas.\n",
    "\n",
    "# Al final, se deben clasificar las 500 entradas, con los valores proporcionados en la columna \"target\"\n",
    "\n",
    "<hr>"
   ]
  },
  {
   "cell_type": "markdown",
   "metadata": {},
   "source": [
    "En la celda de abajo, repetimos rápidamente los mismos pasos de preprocesamiento usados ​​en el ejemplo dado con el árbol de decisiones"
   ]
  },
  {
   "cell_type": "code",
   "execution_count": 59,
   "metadata": {},
   "outputs": [],
   "source": [
    "# Aplicar la transformación ``DropColumns`` al conjunto de datos base\n",
    "rm_columns.fit(X=df_to_be_scored)\n",
    "\n",
    "# Reconstruyendo un DataFrame de Pandas con el resultado de la transformación\n",
    "df_to_be_scored_2 = pd.DataFrame.from_records(\n",
    "    data=rm_columns.transform(\n",
    "        X=df_to_be_scored\n",
    "    ),\n",
    ")\n",
    "\n",
    "# Aplicamos el SimpleImputer ``si`` al conjunto de datos df_data_2 (resultado de la primera transformación)\n",
    "si.fit(X=df_to_be_scored_2)\n",
    "\n",
    "# Reconstrucción de un nuevo DataFrame de Pandas con el conjunto imputado (df_data_3)\n",
    "df_to_be_scored_3 = pd.DataFrame.from_records(\n",
    "    data=si.transform(\n",
    "        X=df_to_be_scored_2\n",
    "    ),  # el resultado SimpleImputer.transform (<< pandas dataframe >>) es lista lista\n",
    "    columns=df_to_be_scored_2.columns  # las columnas originales deben conservarse en esta transformación\n",
    ")"
   ]
  },
  {
   "cell_type": "code",
   "execution_count": 60,
   "metadata": {},
   "outputs": [],
   "source": [
    "# Realización de una prueba a ciegas en el modelo creado\n",
    "y_pred = dtc_model.predict(df_to_be_scored_3)"
   ]
  },
  {
   "cell_type": "code",
   "execution_count": 61,
   "metadata": {},
   "outputs": [
    {
     "data": {
      "text/html": [
       "<div>\n",
       "<style scoped>\n",
       "    .dataframe tbody tr th:only-of-type {\n",
       "        vertical-align: middle;\n",
       "    }\n",
       "\n",
       "    .dataframe tbody tr th {\n",
       "        vertical-align: top;\n",
       "    }\n",
       "\n",
       "    .dataframe thead th {\n",
       "        text-align: right;\n",
       "    }\n",
       "</style>\n",
       "<table border=\"1\" class=\"dataframe\">\n",
       "  <thead>\n",
       "    <tr style=\"text-align: right;\">\n",
       "      <th></th>\n",
       "      <th>USER_ID</th>\n",
       "      <th>HOURS_DATASCIENCE</th>\n",
       "      <th>HOURS_BACKEND</th>\n",
       "      <th>HOURS_FRONTEND</th>\n",
       "      <th>NUM_COURSES_BEGINNER_DATASCIENCE</th>\n",
       "      <th>NUM_COURSES_BEGINNER_BACKEND</th>\n",
       "      <th>NUM_COURSES_BEGINNER_FRONTEND</th>\n",
       "      <th>NUM_COURSES_ADVANCED_DATASCIENCE</th>\n",
       "      <th>NUM_COURSES_ADVANCED_BACKEND</th>\n",
       "      <th>NUM_COURSES_ADVANCED_FRONTEND</th>\n",
       "      <th>AVG_SCORE_DATASCIENCE</th>\n",
       "      <th>AVG_SCORE_BACKEND</th>\n",
       "      <th>AVG_SCORE_FRONTEND</th>\n",
       "      <th>target</th>\n",
       "    </tr>\n",
       "  </thead>\n",
       "  <tbody>\n",
       "    <tr>\n",
       "      <th>495</th>\n",
       "      <td>1147648</td>\n",
       "      <td>0</td>\n",
       "      <td>56</td>\n",
       "      <td>11</td>\n",
       "      <td>2</td>\n",
       "      <td>1</td>\n",
       "      <td>8</td>\n",
       "      <td>5</td>\n",
       "      <td>2</td>\n",
       "      <td>6</td>\n",
       "      <td>80</td>\n",
       "      <td>93</td>\n",
       "      <td>35</td>\n",
       "      <td>beginner_backend</td>\n",
       "    </tr>\n",
       "    <tr>\n",
       "      <th>496</th>\n",
       "      <td>33729943</td>\n",
       "      <td>50</td>\n",
       "      <td>53</td>\n",
       "      <td>5</td>\n",
       "      <td>4</td>\n",
       "      <td>1</td>\n",
       "      <td>4</td>\n",
       "      <td>8</td>\n",
       "      <td>4</td>\n",
       "      <td>4</td>\n",
       "      <td>59</td>\n",
       "      <td>59</td>\n",
       "      <td>50</td>\n",
       "      <td>beginner_data_science</td>\n",
       "    </tr>\n",
       "    <tr>\n",
       "      <th>497</th>\n",
       "      <td>62724217</td>\n",
       "      <td>35</td>\n",
       "      <td>35</td>\n",
       "      <td>63</td>\n",
       "      <td>3</td>\n",
       "      <td>0</td>\n",
       "      <td>0</td>\n",
       "      <td>5</td>\n",
       "      <td>3</td>\n",
       "      <td>5</td>\n",
       "      <td>35</td>\n",
       "      <td>54</td>\n",
       "      <td>59</td>\n",
       "      <td>beginner_data_science</td>\n",
       "    </tr>\n",
       "    <tr>\n",
       "      <th>498</th>\n",
       "      <td>71562358</td>\n",
       "      <td>42</td>\n",
       "      <td>4</td>\n",
       "      <td>58</td>\n",
       "      <td>6</td>\n",
       "      <td>6</td>\n",
       "      <td>5</td>\n",
       "      <td>7</td>\n",
       "      <td>7</td>\n",
       "      <td>5</td>\n",
       "      <td>78</td>\n",
       "      <td>59</td>\n",
       "      <td>79</td>\n",
       "      <td>beginner_front_end</td>\n",
       "    </tr>\n",
       "    <tr>\n",
       "      <th>499</th>\n",
       "      <td>48754463</td>\n",
       "      <td>6</td>\n",
       "      <td>47</td>\n",
       "      <td>39</td>\n",
       "      <td>5</td>\n",
       "      <td>2</td>\n",
       "      <td>8</td>\n",
       "      <td>5</td>\n",
       "      <td>4</td>\n",
       "      <td>9</td>\n",
       "      <td>88</td>\n",
       "      <td>83</td>\n",
       "      <td>61</td>\n",
       "      <td>advanced_backend</td>\n",
       "    </tr>\n",
       "  </tbody>\n",
       "</table>\n",
       "</div>"
      ],
      "text/plain": [
       "      USER_ID  HOURS_DATASCIENCE  HOURS_BACKEND  HOURS_FRONTEND  \\\n",
       "495   1147648                  0             56              11   \n",
       "496  33729943                 50             53               5   \n",
       "497  62724217                 35             35              63   \n",
       "498  71562358                 42              4              58   \n",
       "499  48754463                  6             47              39   \n",
       "\n",
       "     NUM_COURSES_BEGINNER_DATASCIENCE  NUM_COURSES_BEGINNER_BACKEND  \\\n",
       "495                                 2                             1   \n",
       "496                                 4                             1   \n",
       "497                                 3                             0   \n",
       "498                                 6                             6   \n",
       "499                                 5                             2   \n",
       "\n",
       "     NUM_COURSES_BEGINNER_FRONTEND  NUM_COURSES_ADVANCED_DATASCIENCE  \\\n",
       "495                              8                                 5   \n",
       "496                              4                                 8   \n",
       "497                              0                                 5   \n",
       "498                              5                                 7   \n",
       "499                              8                                 5   \n",
       "\n",
       "     NUM_COURSES_ADVANCED_BACKEND  NUM_COURSES_ADVANCED_FRONTEND  \\\n",
       "495                             2                              6   \n",
       "496                             4                              4   \n",
       "497                             3                              5   \n",
       "498                             7                              5   \n",
       "499                             4                              9   \n",
       "\n",
       "     AVG_SCORE_DATASCIENCE  AVG_SCORE_BACKEND  AVG_SCORE_FRONTEND  \\\n",
       "495                     80                 93                  35   \n",
       "496                     59                 59                  50   \n",
       "497                     35                 54                  59   \n",
       "498                     78                 59                  79   \n",
       "499                     88                 83                  61   \n",
       "\n",
       "                    target  \n",
       "495       beginner_backend  \n",
       "496  beginner_data_science  \n",
       "497  beginner_data_science  \n",
       "498     beginner_front_end  \n",
       "499       advanced_backend  "
      ]
     },
     "execution_count": 61,
     "metadata": {},
     "output_type": "execute_result"
    }
   ],
   "source": [
    "# Agregando las respuestas en la columna \"target\"\n",
    "df_to_be_scored_3['target'] = y_pred\n",
    "df_to_be_scored_3.tail()"
   ]
  },
  {
   "cell_type": "markdown",
   "metadata": {},
   "source": [
    "### Guardar la hoja de respuestas como un archivo .csv para enviar\n",
    "**SI YA TIENE UN DATA ASSET CON EL NOMBRE `results.csv` EN ESTE PROYECTO O EN OTRO PROYECTO DE WATSON STUDIO DEBE BORRAR EL ARCHIVO ANTES DE CORRER LA SIGUIENTE CELDA O TENDRA EL ERROR: _RuntimeError: File 'results.csv' already exists in storage._**"
   ]
  },
  {
   "cell_type": "code",
   "execution_count": 63,
   "metadata": {},
   "outputs": [],
   "source": [
    "#project.save_data(file_name=\"results.csv\", data=df_to_be_scored_3.to_csv(index=False))\n",
    "df_to_be_scored_3.to_csv(path_or_buf= \"envío/results.csv\", index=False)"
   ]
  },
  {
   "cell_type": "markdown",
   "metadata": {},
   "source": [
    "# Atención\n",
    "\n",
    "# La ejecución de la celda anterior creará un nuevo \"data asset\" en su proyecto de Watson Studio. Deberá descargar este archivo junto con este cuaderno y crear un archivo zip con **results.csv** y **notebook.ipynb** para enviarlo. (los archivos deben tener este nombre)"
   ]
  },
  {
   "cell_type": "markdown",
   "metadata": {},
   "source": [
    "<hr>\n",
    "\n",
    "## ¡Felicitaciones!\n",
    "\n",
    "Si ya está satisfecho con su solución, vaya a la página siguiente y envíe los archivos necesarios para su envío.\n",
    "\n",
    "# https://tortuga.maratona.dev"
   ]
  },
  {
   "cell_type": "code",
   "execution_count": null,
   "metadata": {},
   "outputs": [],
   "source": []
  }
 ],
 "metadata": {
  "environment": {
   "name": "tf2-gpu.2-1.m55",
   "type": "gcloud",
   "uri": "gcr.io/deeplearning-platform-release/tf2-gpu.2-1:m55"
  },
  "kernelspec": {
   "display_name": "Python 3",
   "language": "python",
   "name": "python3"
  },
  "language_info": {
   "codemirror_mode": {
    "name": "ipython",
    "version": 3
   },
   "file_extension": ".py",
   "mimetype": "text/x-python",
   "name": "python",
   "nbconvert_exporter": "python",
   "pygments_lexer": "ipython3",
   "version": "3.7.8"
  }
 },
 "nbformat": 4,
 "nbformat_minor": 4
}
